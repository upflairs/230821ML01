{
 "cells": [
  {
   "cell_type": "code",
   "execution_count": 1,
   "metadata": {},
   "outputs": [],
   "source": [
    "import pandas as pd"
   ]
  },
  {
   "cell_type": "code",
   "execution_count": 2,
   "metadata": {},
   "outputs": [],
   "source": [
    "df = pd.read_csv('food.csv')"
   ]
  },
  {
   "cell_type": "code",
   "execution_count": 3,
   "metadata": {},
   "outputs": [
    {
     "data": {
      "text/html": [
       "<div>\n",
       "<style scoped>\n",
       "    .dataframe tbody tr th:only-of-type {\n",
       "        vertical-align: middle;\n",
       "    }\n",
       "\n",
       "    .dataframe tbody tr th {\n",
       "        vertical-align: top;\n",
       "    }\n",
       "\n",
       "    .dataframe thead th {\n",
       "        text-align: right;\n",
       "    }\n",
       "</style>\n",
       "<table border=\"1\" class=\"dataframe\">\n",
       "  <thead>\n",
       "    <tr style=\"text-align: right;\">\n",
       "      <th></th>\n",
       "      <th>title</th>\n",
       "      <th>cuisine</th>\n",
       "      <th>type</th>\n",
       "      <th>state</th>\n",
       "      <th>famous location</th>\n",
       "      <th>taste</th>\n",
       "      <th>price</th>\n",
       "    </tr>\n",
       "  </thead>\n",
       "  <tbody>\n",
       "    <tr>\n",
       "      <th>0</th>\n",
       "      <td>dosa</td>\n",
       "      <td>south indian</td>\n",
       "      <td>healthy</td>\n",
       "      <td>solid</td>\n",
       "      <td>chennai</td>\n",
       "      <td>spicy</td>\n",
       "      <td>60</td>\n",
       "    </tr>\n",
       "    <tr>\n",
       "      <th>1</th>\n",
       "      <td>maggi</td>\n",
       "      <td>chinese</td>\n",
       "      <td>fastfood</td>\n",
       "      <td>solid</td>\n",
       "      <td>hostel</td>\n",
       "      <td>spicy</td>\n",
       "      <td>30</td>\n",
       "    </tr>\n",
       "    <tr>\n",
       "      <th>2</th>\n",
       "      <td>susi</td>\n",
       "      <td>japanese</td>\n",
       "      <td>healthy</td>\n",
       "      <td>solid</td>\n",
       "      <td>tokyo</td>\n",
       "      <td>spicy</td>\n",
       "      <td>200</td>\n",
       "    </tr>\n",
       "    <tr>\n",
       "      <th>3</th>\n",
       "      <td>dal bati</td>\n",
       "      <td>rajasthani</td>\n",
       "      <td>healthy</td>\n",
       "      <td>mixed</td>\n",
       "      <td>chokhi dhani</td>\n",
       "      <td>spicy</td>\n",
       "      <td>150</td>\n",
       "    </tr>\n",
       "    <tr>\n",
       "      <th>4</th>\n",
       "      <td>pav bhaji</td>\n",
       "      <td>north indian</td>\n",
       "      <td>fastfood</td>\n",
       "      <td>mixed</td>\n",
       "      <td>delhi</td>\n",
       "      <td>spicy</td>\n",
       "      <td>60</td>\n",
       "    </tr>\n",
       "  </tbody>\n",
       "</table>\n",
       "</div>"
      ],
      "text/plain": [
       "       title       cuisine      type  state famous location  taste  price\n",
       "0       dosa  south indian   healthy  solid         chennai  spicy     60\n",
       "1      maggi       chinese  fastfood  solid          hostel  spicy     30\n",
       "2       susi      japanese   healthy  solid           tokyo  spicy    200\n",
       "3   dal bati    rajasthani   healthy  mixed    chokhi dhani  spicy    150\n",
       "4  pav bhaji  north indian  fastfood  mixed           delhi  spicy     60"
      ]
     },
     "execution_count": 3,
     "metadata": {},
     "output_type": "execute_result"
    }
   ],
   "source": [
    "df.head()"
   ]
  },
  {
   "cell_type": "code",
   "execution_count": 4,
   "metadata": {},
   "outputs": [
    {
     "name": "stdout",
     "output_type": "stream",
     "text": [
      "<class 'pandas.core.frame.DataFrame'>\n",
      "RangeIndex: 31 entries, 0 to 30\n",
      "Data columns (total 7 columns):\n",
      " #   Column           Non-Null Count  Dtype \n",
      "---  ------           --------------  ----- \n",
      " 0   title            31 non-null     object\n",
      " 1   cuisine          31 non-null     object\n",
      " 2   type             31 non-null     object\n",
      " 3   state            31 non-null     object\n",
      " 4   famous location  31 non-null     object\n",
      " 5   taste            31 non-null     object\n",
      " 6   price            31 non-null     int64 \n",
      "dtypes: int64(1), object(6)\n",
      "memory usage: 1.8+ KB\n"
     ]
    }
   ],
   "source": [
    "df.info()"
   ]
  },
  {
   "cell_type": "code",
   "execution_count": 7,
   "metadata": {},
   "outputs": [
    {
     "name": "stdout",
     "output_type": "stream",
     "text": [
      "title\n",
      "----------\n",
      "dosa              1\n",
      "panipuri          1\n",
      "veg roll          1\n",
      "cakes             1\n",
      "pastry            1\n",
      "lasgana           1\n",
      "coffee            1\n",
      "idli sambhar      1\n",
      "chhole kulche     1\n",
      "pasta             1\n",
      "tea               1\n",
      "chhole bhature    1\n",
      "lassi             1\n",
      "curd              1\n",
      "coca cola         1\n",
      "maza              1\n",
      "maggi             1\n",
      "vada pav          1\n",
      "tacos             1\n",
      "sandwich          1\n",
      "momos             1\n",
      "chapati           1\n",
      "curry             1\n",
      "litti chokha      1\n",
      "noodles           1\n",
      "burger            1\n",
      "pizza             1\n",
      "pav bhaji         1\n",
      "dal bati          1\n",
      "susi              1\n",
      "kimchi            1\n",
      "Name: title, dtype: int64\n",
      "\n",
      "----\n",
      "\n",
      "cuisine\n",
      "----------\n",
      "italian         5\n",
      "chinese         4\n",
      "global          4\n",
      "indian          3\n",
      "south indian    2\n",
      "north indian    2\n",
      "USA             2\n",
      "punjabi         2\n",
      "japanese        1\n",
      "rajasthani      1\n",
      "bihari          1\n",
      "mexican         1\n",
      "mumbai          1\n",
      "delhi           1\n",
      "korean          1\n",
      "Name: cuisine, dtype: int64\n",
      "\n",
      "----\n",
      "\n",
      "type\n",
      "----------\n",
      "fastfood      15\n",
      "healthy        9\n",
      "cold drink     3\n",
      "desert         2\n",
      "hot drink      1\n",
      "drink          1\n",
      "Name: type, dtype: int64\n",
      "\n",
      "----\n",
      "\n",
      "state\n",
      "----------\n",
      "solid     16\n",
      "mixed      8\n",
      "liquid     7\n",
      "Name: state, dtype: int64\n",
      "\n",
      "----\n",
      "\n",
      "famous location\n",
      "----------\n",
      "bakery               4\n",
      "delhi                2\n",
      "dairy                2\n",
      "chennai              1\n",
      "ghunghroo seth       1\n",
      "roll express         1\n",
      "mamus in fusion      1\n",
      "NBC                  1\n",
      "dosa seth            1\n",
      "amul parlour         1\n",
      "cluster              1\n",
      "gulab                1\n",
      "golu ke gol gappe    1\n",
      "GT                   1\n",
      "hostel               1\n",
      "kanha                1\n",
      "thapa ke momos       1\n",
      "sweet home           1\n",
      "amritsar             1\n",
      "patna                1\n",
      "china town           1\n",
      "burger king          1\n",
      "domino               1\n",
      "chokhi dhani         1\n",
      "tokyo                1\n",
      "seol                 1\n",
      "Name: famous location, dtype: int64\n",
      "\n",
      "----\n",
      "\n",
      "taste\n",
      "----------\n",
      "spicy      20\n",
      "sweet       8\n",
      "neutral     2\n",
      "cheesy      1\n",
      "Name: taste, dtype: int64\n",
      "\n",
      "----\n",
      "\n"
     ]
    }
   ],
   "source": [
    "for col in df.columns[:-1]:\n",
    "    print(col,df[col].value_counts(),sep='\\n----------\\n')\n",
    "    print('')\n",
    "    print('----')\n",
    "    print('')"
   ]
  },
  {
   "cell_type": "code",
   "execution_count": 8,
   "metadata": {},
   "outputs": [
    {
     "data": {
      "text/plain": [
       "130.9375"
      ]
     },
     "execution_count": 8,
     "metadata": {},
     "output_type": "execute_result"
    }
   ],
   "source": [
    "df['price'][df['state']=='solid'].mean()"
   ]
  },
  {
   "cell_type": "code",
   "execution_count": 9,
   "metadata": {},
   "outputs": [
    {
     "data": {
      "text/plain": [
       "95.0"
      ]
     },
     "execution_count": 9,
     "metadata": {},
     "output_type": "execute_result"
    }
   ],
   "source": [
    "df['price'][df['state']=='mixed'].mean()"
   ]
  },
  {
   "cell_type": "code",
   "execution_count": 10,
   "metadata": {},
   "outputs": [
    {
     "data": {
      "text/plain": [
       "32.142857142857146"
      ]
     },
     "execution_count": 10,
     "metadata": {},
     "output_type": "execute_result"
    }
   ],
   "source": [
    "df['price'][df['state']=='liquid'].mean()"
   ]
  },
  {
   "cell_type": "code",
   "execution_count": 13,
   "metadata": {},
   "outputs": [
    {
     "data": {
      "text/html": [
       "<div>\n",
       "<style scoped>\n",
       "    .dataframe tbody tr th:only-of-type {\n",
       "        vertical-align: middle;\n",
       "    }\n",
       "\n",
       "    .dataframe tbody tr th {\n",
       "        vertical-align: top;\n",
       "    }\n",
       "\n",
       "    .dataframe thead th {\n",
       "        text-align: right;\n",
       "    }\n",
       "</style>\n",
       "<table border=\"1\" class=\"dataframe\">\n",
       "  <thead>\n",
       "    <tr style=\"text-align: right;\">\n",
       "      <th></th>\n",
       "      <th>price</th>\n",
       "    </tr>\n",
       "    <tr>\n",
       "      <th>state</th>\n",
       "      <th></th>\n",
       "    </tr>\n",
       "  </thead>\n",
       "  <tbody>\n",
       "    <tr>\n",
       "      <th>liquid</th>\n",
       "      <td>32.142857</td>\n",
       "    </tr>\n",
       "    <tr>\n",
       "      <th>mixed</th>\n",
       "      <td>95.000000</td>\n",
       "    </tr>\n",
       "    <tr>\n",
       "      <th>solid</th>\n",
       "      <td>130.937500</td>\n",
       "    </tr>\n",
       "  </tbody>\n",
       "</table>\n",
       "</div>"
      ],
      "text/plain": [
       "             price\n",
       "state             \n",
       "liquid   32.142857\n",
       "mixed    95.000000\n",
       "solid   130.937500"
      ]
     },
     "execution_count": 13,
     "metadata": {},
     "output_type": "execute_result"
    }
   ],
   "source": [
    "df.groupby('state')[['price']].mean()"
   ]
  },
  {
   "cell_type": "code",
   "execution_count": 18,
   "metadata": {},
   "outputs": [
    {
     "data": {
      "text/html": [
       "<div>\n",
       "<style scoped>\n",
       "    .dataframe tbody tr th:only-of-type {\n",
       "        vertical-align: middle;\n",
       "    }\n",
       "\n",
       "    .dataframe tbody tr th {\n",
       "        vertical-align: top;\n",
       "    }\n",
       "\n",
       "    .dataframe thead tr th {\n",
       "        text-align: left;\n",
       "    }\n",
       "\n",
       "    .dataframe thead tr:last-of-type th {\n",
       "        text-align: right;\n",
       "    }\n",
       "</style>\n",
       "<table border=\"1\" class=\"dataframe\">\n",
       "  <thead>\n",
       "    <tr>\n",
       "      <th></th>\n",
       "      <th colspan=\"4\" halign=\"left\">title</th>\n",
       "      <th colspan=\"4\" halign=\"left\">cuisine</th>\n",
       "      <th colspan=\"4\" halign=\"left\">type</th>\n",
       "      <th colspan=\"4\" halign=\"left\">famous location</th>\n",
       "      <th colspan=\"4\" halign=\"left\">taste</th>\n",
       "    </tr>\n",
       "    <tr>\n",
       "      <th></th>\n",
       "      <th>count</th>\n",
       "      <th>unique</th>\n",
       "      <th>top</th>\n",
       "      <th>freq</th>\n",
       "      <th>count</th>\n",
       "      <th>unique</th>\n",
       "      <th>top</th>\n",
       "      <th>freq</th>\n",
       "      <th>count</th>\n",
       "      <th>unique</th>\n",
       "      <th>top</th>\n",
       "      <th>freq</th>\n",
       "      <th>count</th>\n",
       "      <th>unique</th>\n",
       "      <th>top</th>\n",
       "      <th>freq</th>\n",
       "      <th>count</th>\n",
       "      <th>unique</th>\n",
       "      <th>top</th>\n",
       "      <th>freq</th>\n",
       "    </tr>\n",
       "    <tr>\n",
       "      <th>state</th>\n",
       "      <th></th>\n",
       "      <th></th>\n",
       "      <th></th>\n",
       "      <th></th>\n",
       "      <th></th>\n",
       "      <th></th>\n",
       "      <th></th>\n",
       "      <th></th>\n",
       "      <th></th>\n",
       "      <th></th>\n",
       "      <th></th>\n",
       "      <th></th>\n",
       "      <th></th>\n",
       "      <th></th>\n",
       "      <th></th>\n",
       "      <th></th>\n",
       "      <th></th>\n",
       "      <th></th>\n",
       "      <th></th>\n",
       "      <th></th>\n",
       "    </tr>\n",
       "  </thead>\n",
       "  <tbody>\n",
       "    <tr>\n",
       "      <th>liquid</th>\n",
       "      <td>7</td>\n",
       "      <td>7</td>\n",
       "      <td>curry</td>\n",
       "      <td>1</td>\n",
       "      <td>7</td>\n",
       "      <td>4</td>\n",
       "      <td>indian</td>\n",
       "      <td>2</td>\n",
       "      <td>7</td>\n",
       "      <td>4</td>\n",
       "      <td>cold drink</td>\n",
       "      <td>3</td>\n",
       "      <td>7</td>\n",
       "      <td>5</td>\n",
       "      <td>bakery</td>\n",
       "      <td>2</td>\n",
       "      <td>7</td>\n",
       "      <td>2</td>\n",
       "      <td>sweet</td>\n",
       "      <td>6</td>\n",
       "    </tr>\n",
       "    <tr>\n",
       "      <th>mixed</th>\n",
       "      <td>8</td>\n",
       "      <td>8</td>\n",
       "      <td>dal bati</td>\n",
       "      <td>1</td>\n",
       "      <td>8</td>\n",
       "      <td>7</td>\n",
       "      <td>north indian</td>\n",
       "      <td>2</td>\n",
       "      <td>8</td>\n",
       "      <td>2</td>\n",
       "      <td>fastfood</td>\n",
       "      <td>5</td>\n",
       "      <td>8</td>\n",
       "      <td>7</td>\n",
       "      <td>delhi</td>\n",
       "      <td>2</td>\n",
       "      <td>8</td>\n",
       "      <td>2</td>\n",
       "      <td>spicy</td>\n",
       "      <td>7</td>\n",
       "    </tr>\n",
       "    <tr>\n",
       "      <th>solid</th>\n",
       "      <td>16</td>\n",
       "      <td>16</td>\n",
       "      <td>dosa</td>\n",
       "      <td>1</td>\n",
       "      <td>16</td>\n",
       "      <td>9</td>\n",
       "      <td>chinese</td>\n",
       "      <td>4</td>\n",
       "      <td>16</td>\n",
       "      <td>3</td>\n",
       "      <td>fastfood</td>\n",
       "      <td>10</td>\n",
       "      <td>16</td>\n",
       "      <td>15</td>\n",
       "      <td>bakery</td>\n",
       "      <td>2</td>\n",
       "      <td>16</td>\n",
       "      <td>4</td>\n",
       "      <td>spicy</td>\n",
       "      <td>12</td>\n",
       "    </tr>\n",
       "  </tbody>\n",
       "</table>\n",
       "</div>"
      ],
      "text/plain": [
       "       title                       cuisine                            type  \\\n",
       "       count unique       top freq   count unique           top freq count   \n",
       "state                                                                        \n",
       "liquid     7      7     curry    1       7      4        indian    2     7   \n",
       "mixed      8      8  dal bati    1       8      7  north indian    2     8   \n",
       "solid     16     16      dosa    1      16      9       chinese    4    16   \n",
       "\n",
       "                               famous location                     taste  \\\n",
       "       unique         top freq           count unique     top freq count   \n",
       "state                                                                      \n",
       "liquid      4  cold drink    3               7      5  bakery    2     7   \n",
       "mixed       2    fastfood    5               8      7   delhi    2     8   \n",
       "solid       3    fastfood   10              16     15  bakery    2    16   \n",
       "\n",
       "                           \n",
       "       unique    top freq  \n",
       "state                      \n",
       "liquid      2  sweet    6  \n",
       "mixed       2  spicy    7  \n",
       "solid       4  spicy   12  "
      ]
     },
     "execution_count": 18,
     "metadata": {},
     "output_type": "execute_result"
    }
   ],
   "source": [
    "df.groupby('state').describe(include='object')"
   ]
  },
  {
   "cell_type": "code",
   "execution_count": 19,
   "metadata": {},
   "outputs": [
    {
     "data": {
      "text/html": [
       "<div>\n",
       "<style scoped>\n",
       "    .dataframe tbody tr th:only-of-type {\n",
       "        vertical-align: middle;\n",
       "    }\n",
       "\n",
       "    .dataframe tbody tr th {\n",
       "        vertical-align: top;\n",
       "    }\n",
       "\n",
       "    .dataframe thead th {\n",
       "        text-align: right;\n",
       "    }\n",
       "</style>\n",
       "<table border=\"1\" class=\"dataframe\">\n",
       "  <thead>\n",
       "    <tr style=\"text-align: right;\">\n",
       "      <th></th>\n",
       "      <th>title</th>\n",
       "      <th>cuisine</th>\n",
       "      <th>type</th>\n",
       "      <th>state</th>\n",
       "      <th>famous location</th>\n",
       "      <th>taste</th>\n",
       "    </tr>\n",
       "  </thead>\n",
       "  <tbody>\n",
       "    <tr>\n",
       "      <th>count</th>\n",
       "      <td>31</td>\n",
       "      <td>31</td>\n",
       "      <td>31</td>\n",
       "      <td>31</td>\n",
       "      <td>31</td>\n",
       "      <td>31</td>\n",
       "    </tr>\n",
       "    <tr>\n",
       "      <th>unique</th>\n",
       "      <td>31</td>\n",
       "      <td>15</td>\n",
       "      <td>6</td>\n",
       "      <td>3</td>\n",
       "      <td>26</td>\n",
       "      <td>4</td>\n",
       "    </tr>\n",
       "    <tr>\n",
       "      <th>top</th>\n",
       "      <td>dosa</td>\n",
       "      <td>italian</td>\n",
       "      <td>fastfood</td>\n",
       "      <td>solid</td>\n",
       "      <td>bakery</td>\n",
       "      <td>spicy</td>\n",
       "    </tr>\n",
       "    <tr>\n",
       "      <th>freq</th>\n",
       "      <td>1</td>\n",
       "      <td>5</td>\n",
       "      <td>15</td>\n",
       "      <td>16</td>\n",
       "      <td>4</td>\n",
       "      <td>20</td>\n",
       "    </tr>\n",
       "  </tbody>\n",
       "</table>\n",
       "</div>"
      ],
      "text/plain": [
       "       title  cuisine      type  state famous location  taste\n",
       "count     31       31        31     31              31     31\n",
       "unique    31       15         6      3              26      4\n",
       "top     dosa  italian  fastfood  solid          bakery  spicy\n",
       "freq       1        5        15     16               4     20"
      ]
     },
     "execution_count": 19,
     "metadata": {},
     "output_type": "execute_result"
    }
   ],
   "source": [
    "df.describe(include='object')"
   ]
  },
  {
   "cell_type": "code",
   "execution_count": 20,
   "metadata": {},
   "outputs": [],
   "source": [
    "#corrwith\n",
    "#corr\n",
    "#crosstab\n",
    "#pivottable\n",
    "#join\n",
    "#concat\n",
    "#merge"
   ]
  },
  {
   "cell_type": "code",
   "execution_count": null,
   "metadata": {},
   "outputs": [],
   "source": []
  },
  {
   "cell_type": "markdown",
   "metadata": {},
   "source": [
    "## Data Visualization"
   ]
  },
  {
   "cell_type": "raw",
   "metadata": {},
   "source": [
    "Matplotlib\n",
    "pandas\n",
    "seaborn\n",
    "plotly"
   ]
  },
  {
   "cell_type": "code",
   "execution_count": 21,
   "metadata": {},
   "outputs": [
    {
     "data": {
      "text/plain": [
       "<matplotlib.axes._subplots.AxesSubplot at 0x1a94de115e0>"
      ]
     },
     "execution_count": 21,
     "metadata": {},
     "output_type": "execute_result"
    },
    {
     "data": {
      "image/png": "[encoded data removed]",
      "text/plain": [
       "<Figure size 432x288 with 1 Axes>"
      ]
     },
     "metadata": {
      "needs_background": "light"
     },
     "output_type": "display_data"
    }
   ],
   "source": [
    "df['price'].plot.hist()"
   ]
  },
  {
   "cell_type": "code",
   "execution_count": 23,
   "metadata": {},
   "outputs": [
    {
     "data": {
      "text/plain": [
       "5      1\n",
       "10     2\n",
       "15     3\n",
       "20     1\n",
       "30     2\n",
       "40     1\n",
       "50     5\n",
       "60     3\n",
       "70     1\n",
       "80     2\n",
       "110    1\n",
       "120    1\n",
       "150    3\n",
       "200    1\n",
       "250    1\n",
       "300    1\n",
       "350    1\n",
       "450    1\n",
       "Name: price, dtype: int64"
      ]
     },
     "execution_count": 23,
     "metadata": {},
     "output_type": "execute_result"
    }
   ],
   "source": [
    "df['price'].value_counts().sort_index()"
   ]
  },
  {
   "cell_type": "code",
   "execution_count": 24,
   "metadata": {},
   "outputs": [
    {
     "data": {
      "text/plain": [
       "<matplotlib.axes._subplots.AxesSubplot at 0x1a94fecb790>"
      ]
     },
     "execution_count": 24,
     "metadata": {},
     "output_type": "execute_result"
    },
    {
     "data": {
      "image/png": "[encoded data removed]",
      "text/plain": [
       "<Figure size 432x288 with 1 Axes>"
      ]
     },
     "metadata": {
      "needs_background": "light"
     },
     "output_type": "display_data"
    }
   ],
   "source": [
    "df['price'].plot()"
   ]
  },
  {
   "cell_type": "code",
   "execution_count": 25,
   "metadata": {},
   "outputs": [
    {
     "data": {
      "text/plain": [
       "<matplotlib.axes._subplots.AxesSubplot at 0x1a94ffad940>"
      ]
     },
     "execution_count": 25,
     "metadata": {},
     "output_type": "execute_result"
    },
    {
     "data": {
      "image/png": "[encoded data removed]",
      "text/plain": [
       "<Figure size 432x288 with 1 Axes>"
      ]
     },
     "metadata": {},
     "output_type": "display_data"
    }
   ],
   "source": [
    "df['state'].value_counts().plot.pie()"
   ]
  },
  {
   "cell_type": "code",
   "execution_count": 26,
   "metadata": {},
   "outputs": [
    {
     "data": {
      "text/plain": [
       "solid     16\n",
       "mixed      8\n",
       "liquid     7\n",
       "Name: state, dtype: int64"
      ]
     },
     "execution_count": 26,
     "metadata": {},
     "output_type": "execute_result"
    }
   ],
   "source": [
    "df['state'].value_counts()"
   ]
  },
  {
   "cell_type": "code",
   "execution_count": 31,
   "metadata": {},
   "outputs": [
    {
     "data": {
      "text/plain": [
       "<matplotlib.axes._subplots.AxesSubplot at 0x1a9502b03d0>"
      ]
     },
     "execution_count": 31,
     "metadata": {},
     "output_type": "execute_result"
    },
    {
     "data": {
      "image/png": "[encoded data removed]",
      "text/plain": [
       "<Figure size 432x288 with 1 Axes>"
      ]
     },
     "metadata": {
      "needs_background": "light"
     },
     "output_type": "display_data"
    }
   ],
   "source": [
    "df['price'].plot.box()"
   ]
  },
  {
   "cell_type": "code",
   "execution_count": null,
   "metadata": {},
   "outputs": [],
   "source": []
  }
 ],
 "metadata": {
  "kernelspec": {
   "display_name": "Python 3",
   "language": "python",
   "name": "python3"
  },
  "language_info": {
   "codemirror_mode": {
    "name": "ipython",
    "version": 3
   },
   "file_extension": ".py",
   "mimetype": "text/x-python",
   "name": "python",
   "nbconvert_exporter": "python",
   "pygments_lexer": "ipython3",
   "version": "3.8.3"
  }
 },
 "nbformat": 4,
 "nbformat_minor": 4
}
