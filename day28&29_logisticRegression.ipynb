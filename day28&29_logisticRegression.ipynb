{
 "cells": [
  {
   "cell_type": "code",
   "execution_count": 91,
   "metadata": {},
   "outputs": [],
   "source": [
    "import pandas as pd\n",
    "import seaborn as sns\n",
    "import matplotlib.pyplot as plt"
   ]
  },
  {
   "cell_type": "code",
   "execution_count": 92,
   "metadata": {},
   "outputs": [],
   "source": [
    "data= pd.read_csv('titanic_train.csv')#,index_col=0)"
   ]
  },
  {
   "cell_type": "code",
   "execution_count": 93,
   "metadata": {},
   "outputs": [
    {
     "data": {
      "text/html": [
       "<div>\n",
       "<style scoped>\n",
       "    .dataframe tbody tr th:only-of-type {\n",
       "        vertical-align: middle;\n",
       "    }\n",
       "\n",
       "    .dataframe tbody tr th {\n",
       "        vertical-align: top;\n",
       "    }\n",
       "\n",
       "    .dataframe thead th {\n",
       "        text-align: right;\n",
       "    }\n",
       "</style>\n",
       "<table border=\"1\" class=\"dataframe\">\n",
       "  <thead>\n",
       "    <tr style=\"text-align: right;\">\n",
       "      <th></th>\n",
       "      <th>PassengerId</th>\n",
       "      <th>Survived</th>\n",
       "      <th>Pclass</th>\n",
       "      <th>Name</th>\n",
       "      <th>Sex</th>\n",
       "      <th>Age</th>\n",
       "      <th>SibSp</th>\n",
       "      <th>Parch</th>\n",
       "      <th>Ticket</th>\n",
       "      <th>Fare</th>\n",
       "      <th>Cabin</th>\n",
       "      <th>Embarked</th>\n",
       "    </tr>\n",
       "  </thead>\n",
       "  <tbody>\n",
       "    <tr>\n",
       "      <th>0</th>\n",
       "      <td>1</td>\n",
       "      <td>0</td>\n",
       "      <td>3</td>\n",
       "      <td>Braund, Mr. Owen Harris</td>\n",
       "      <td>male</td>\n",
       "      <td>22.0</td>\n",
       "      <td>1</td>\n",
       "      <td>0</td>\n",
       "      <td>A/5 21171</td>\n",
       "      <td>7.2500</td>\n",
       "      <td>NaN</td>\n",
       "      <td>S</td>\n",
       "    </tr>\n",
       "    <tr>\n",
       "      <th>1</th>\n",
       "      <td>2</td>\n",
       "      <td>1</td>\n",
       "      <td>1</td>\n",
       "      <td>Cumings, Mrs. John Bradley (Florence Briggs Th...</td>\n",
       "      <td>female</td>\n",
       "      <td>38.0</td>\n",
       "      <td>1</td>\n",
       "      <td>0</td>\n",
       "      <td>PC 17599</td>\n",
       "      <td>71.2833</td>\n",
       "      <td>C85</td>\n",
       "      <td>C</td>\n",
       "    </tr>\n",
       "    <tr>\n",
       "      <th>2</th>\n",
       "      <td>3</td>\n",
       "      <td>1</td>\n",
       "      <td>3</td>\n",
       "      <td>Heikkinen, Miss. Laina</td>\n",
       "      <td>female</td>\n",
       "      <td>26.0</td>\n",
       "      <td>0</td>\n",
       "      <td>0</td>\n",
       "      <td>STON/O2. 3101282</td>\n",
       "      <td>7.9250</td>\n",
       "      <td>NaN</td>\n",
       "      <td>S</td>\n",
       "    </tr>\n",
       "    <tr>\n",
       "      <th>3</th>\n",
       "      <td>4</td>\n",
       "      <td>1</td>\n",
       "      <td>1</td>\n",
       "      <td>Futrelle, Mrs. Jacques Heath (Lily May Peel)</td>\n",
       "      <td>female</td>\n",
       "      <td>35.0</td>\n",
       "      <td>1</td>\n",
       "      <td>0</td>\n",
       "      <td>113803</td>\n",
       "      <td>53.1000</td>\n",
       "      <td>C123</td>\n",
       "      <td>S</td>\n",
       "    </tr>\n",
       "    <tr>\n",
       "      <th>4</th>\n",
       "      <td>5</td>\n",
       "      <td>0</td>\n",
       "      <td>3</td>\n",
       "      <td>Allen, Mr. William Henry</td>\n",
       "      <td>male</td>\n",
       "      <td>35.0</td>\n",
       "      <td>0</td>\n",
       "      <td>0</td>\n",
       "      <td>373450</td>\n",
       "      <td>8.0500</td>\n",
       "      <td>NaN</td>\n",
       "      <td>S</td>\n",
       "    </tr>\n",
       "  </tbody>\n",
       "</table>\n",
       "</div>"
      ],
      "text/plain": [
       "   PassengerId  Survived  Pclass  \\\n",
       "0            1         0       3   \n",
       "1            2         1       1   \n",
       "2            3         1       3   \n",
       "3            4         1       1   \n",
       "4            5         0       3   \n",
       "\n",
       "                                                Name     Sex   Age  SibSp  \\\n",
       "0                            Braund, Mr. Owen Harris    male  22.0      1   \n",
       "1  Cumings, Mrs. John Bradley (Florence Briggs Th...  female  38.0      1   \n",
       "2                             Heikkinen, Miss. Laina  female  26.0      0   \n",
       "3       Futrelle, Mrs. Jacques Heath (Lily May Peel)  female  35.0      1   \n",
       "4                           Allen, Mr. William Henry    male  35.0      0   \n",
       "\n",
       "   Parch            Ticket     Fare Cabin Embarked  \n",
       "0      0         A/5 21171   7.2500   NaN        S  \n",
       "1      0          PC 17599  71.2833   C85        C  \n",
       "2      0  STON/O2. 3101282   7.9250   NaN        S  \n",
       "3      0            113803  53.1000  C123        S  \n",
       "4      0            373450   8.0500   NaN        S  "
      ]
     },
     "execution_count": 93,
     "metadata": {},
     "output_type": "execute_result"
    }
   ],
   "source": [
    "data.head()"
   ]
  },
  {
   "cell_type": "code",
   "execution_count": 94,
   "metadata": {},
   "outputs": [],
   "source": [
    "del data['PassengerId']"
   ]
  },
  {
   "cell_type": "code",
   "execution_count": 95,
   "metadata": {},
   "outputs": [
    {
     "name": "stdout",
     "output_type": "stream",
     "text": [
      "<class 'pandas.core.frame.DataFrame'>\n",
      "RangeIndex: 891 entries, 0 to 890\n",
      "Data columns (total 11 columns):\n",
      " #   Column    Non-Null Count  Dtype  \n",
      "---  ------    --------------  -----  \n",
      " 0   Survived  891 non-null    int64  \n",
      " 1   Pclass    891 non-null    int64  \n",
      " 2   Name      891 non-null    object \n",
      " 3   Sex       891 non-null    object \n",
      " 4   Age       714 non-null    float64\n",
      " 5   SibSp     891 non-null    int64  \n",
      " 6   Parch     891 non-null    int64  \n",
      " 7   Ticket    891 non-null    object \n",
      " 8   Fare      891 non-null    float64\n",
      " 9   Cabin     204 non-null    object \n",
      " 10  Embarked  889 non-null    object \n",
      "dtypes: float64(2), int64(4), object(5)\n",
      "memory usage: 76.7+ KB\n"
     ]
    }
   ],
   "source": [
    "data.info()"
   ]
  },
  {
   "cell_type": "code",
   "execution_count": 96,
   "metadata": {},
   "outputs": [
    {
     "data": {
      "text/plain": [
       "681"
      ]
     },
     "execution_count": 96,
     "metadata": {},
     "output_type": "execute_result"
    }
   ],
   "source": [
    "data['Ticket'].nunique()"
   ]
  },
  {
   "cell_type": "code",
   "execution_count": 97,
   "metadata": {},
   "outputs": [
    {
     "data": {
      "text/plain": [
       "347082      7\n",
       "CA. 2343    7\n",
       "1601        7\n",
       "3101295     6\n",
       "CA 2144     6\n",
       "           ..\n",
       "9234        1\n",
       "19988       1\n",
       "2693        1\n",
       "PC 17612    1\n",
       "370376      1\n",
       "Name: Ticket, Length: 681, dtype: int64"
      ]
     },
     "execution_count": 97,
     "metadata": {},
     "output_type": "execute_result"
    }
   ],
   "source": [
    "data['Ticket'].value_counts()"
   ]
  },
  {
   "cell_type": "code",
   "execution_count": 98,
   "metadata": {},
   "outputs": [
    {
     "data": {
      "text/html": [
       "<div>\n",
       "<style scoped>\n",
       "    .dataframe tbody tr th:only-of-type {\n",
       "        vertical-align: middle;\n",
       "    }\n",
       "\n",
       "    .dataframe tbody tr th {\n",
       "        vertical-align: top;\n",
       "    }\n",
       "\n",
       "    .dataframe thead th {\n",
       "        text-align: right;\n",
       "    }\n",
       "</style>\n",
       "<table border=\"1\" class=\"dataframe\">\n",
       "  <thead>\n",
       "    <tr style=\"text-align: right;\">\n",
       "      <th></th>\n",
       "      <th>Survived</th>\n",
       "      <th>Pclass</th>\n",
       "      <th>Name</th>\n",
       "      <th>Sex</th>\n",
       "      <th>Age</th>\n",
       "      <th>SibSp</th>\n",
       "      <th>Parch</th>\n",
       "      <th>Ticket</th>\n",
       "      <th>Fare</th>\n",
       "      <th>Cabin</th>\n",
       "      <th>Embarked</th>\n",
       "    </tr>\n",
       "  </thead>\n",
       "  <tbody>\n",
       "    <tr>\n",
       "      <th>13</th>\n",
       "      <td>0</td>\n",
       "      <td>3</td>\n",
       "      <td>Andersson, Mr. Anders Johan</td>\n",
       "      <td>male</td>\n",
       "      <td>39.0</td>\n",
       "      <td>1</td>\n",
       "      <td>5</td>\n",
       "      <td>347082</td>\n",
       "      <td>31.275</td>\n",
       "      <td>NaN</td>\n",
       "      <td>S</td>\n",
       "    </tr>\n",
       "    <tr>\n",
       "      <th>119</th>\n",
       "      <td>0</td>\n",
       "      <td>3</td>\n",
       "      <td>Andersson, Miss. Ellis Anna Maria</td>\n",
       "      <td>female</td>\n",
       "      <td>2.0</td>\n",
       "      <td>4</td>\n",
       "      <td>2</td>\n",
       "      <td>347082</td>\n",
       "      <td>31.275</td>\n",
       "      <td>NaN</td>\n",
       "      <td>S</td>\n",
       "    </tr>\n",
       "    <tr>\n",
       "      <th>541</th>\n",
       "      <td>0</td>\n",
       "      <td>3</td>\n",
       "      <td>Andersson, Miss. Ingeborg Constanzia</td>\n",
       "      <td>female</td>\n",
       "      <td>9.0</td>\n",
       "      <td>4</td>\n",
       "      <td>2</td>\n",
       "      <td>347082</td>\n",
       "      <td>31.275</td>\n",
       "      <td>NaN</td>\n",
       "      <td>S</td>\n",
       "    </tr>\n",
       "    <tr>\n",
       "      <th>542</th>\n",
       "      <td>0</td>\n",
       "      <td>3</td>\n",
       "      <td>Andersson, Miss. Sigrid Elisabeth</td>\n",
       "      <td>female</td>\n",
       "      <td>11.0</td>\n",
       "      <td>4</td>\n",
       "      <td>2</td>\n",
       "      <td>347082</td>\n",
       "      <td>31.275</td>\n",
       "      <td>NaN</td>\n",
       "      <td>S</td>\n",
       "    </tr>\n",
       "    <tr>\n",
       "      <th>610</th>\n",
       "      <td>0</td>\n",
       "      <td>3</td>\n",
       "      <td>Andersson, Mrs. Anders Johan (Alfrida Konstant...</td>\n",
       "      <td>female</td>\n",
       "      <td>39.0</td>\n",
       "      <td>1</td>\n",
       "      <td>5</td>\n",
       "      <td>347082</td>\n",
       "      <td>31.275</td>\n",
       "      <td>NaN</td>\n",
       "      <td>S</td>\n",
       "    </tr>\n",
       "    <tr>\n",
       "      <th>813</th>\n",
       "      <td>0</td>\n",
       "      <td>3</td>\n",
       "      <td>Andersson, Miss. Ebba Iris Alfrida</td>\n",
       "      <td>female</td>\n",
       "      <td>6.0</td>\n",
       "      <td>4</td>\n",
       "      <td>2</td>\n",
       "      <td>347082</td>\n",
       "      <td>31.275</td>\n",
       "      <td>NaN</td>\n",
       "      <td>S</td>\n",
       "    </tr>\n",
       "    <tr>\n",
       "      <th>850</th>\n",
       "      <td>0</td>\n",
       "      <td>3</td>\n",
       "      <td>Andersson, Master. Sigvard Harald Elias</td>\n",
       "      <td>male</td>\n",
       "      <td>4.0</td>\n",
       "      <td>4</td>\n",
       "      <td>2</td>\n",
       "      <td>347082</td>\n",
       "      <td>31.275</td>\n",
       "      <td>NaN</td>\n",
       "      <td>S</td>\n",
       "    </tr>\n",
       "  </tbody>\n",
       "</table>\n",
       "</div>"
      ],
      "text/plain": [
       "     Survived  Pclass                                               Name  \\\n",
       "13          0       3                        Andersson, Mr. Anders Johan   \n",
       "119         0       3                  Andersson, Miss. Ellis Anna Maria   \n",
       "541         0       3               Andersson, Miss. Ingeborg Constanzia   \n",
       "542         0       3                  Andersson, Miss. Sigrid Elisabeth   \n",
       "610         0       3  Andersson, Mrs. Anders Johan (Alfrida Konstant...   \n",
       "813         0       3                 Andersson, Miss. Ebba Iris Alfrida   \n",
       "850         0       3            Andersson, Master. Sigvard Harald Elias   \n",
       "\n",
       "        Sex   Age  SibSp  Parch  Ticket    Fare Cabin Embarked  \n",
       "13     male  39.0      1      5  347082  31.275   NaN        S  \n",
       "119  female   2.0      4      2  347082  31.275   NaN        S  \n",
       "541  female   9.0      4      2  347082  31.275   NaN        S  \n",
       "542  female  11.0      4      2  347082  31.275   NaN        S  \n",
       "610  female  39.0      1      5  347082  31.275   NaN        S  \n",
       "813  female   6.0      4      2  347082  31.275   NaN        S  \n",
       "850    male   4.0      4      2  347082  31.275   NaN        S  "
      ]
     },
     "execution_count": 98,
     "metadata": {},
     "output_type": "execute_result"
    }
   ],
   "source": [
    "data[data['Ticket']=='347082']"
   ]
  },
  {
   "cell_type": "code",
   "execution_count": 99,
   "metadata": {},
   "outputs": [
    {
     "data": {
      "text/plain": [
       "0.7643097643097643"
      ]
     },
     "execution_count": 99,
     "metadata": {},
     "output_type": "execute_result"
    }
   ],
   "source": [
    "681/891"
   ]
  },
  {
   "cell_type": "code",
   "execution_count": 100,
   "metadata": {},
   "outputs": [],
   "source": [
    "del data['Ticket']"
   ]
  },
  {
   "cell_type": "code",
   "execution_count": 101,
   "metadata": {},
   "outputs": [],
   "source": [
    "del data['Name']"
   ]
  },
  {
   "cell_type": "code",
   "execution_count": 102,
   "metadata": {},
   "outputs": [
    {
     "data": {
      "text/html": [
       "<div>\n",
       "<style scoped>\n",
       "    .dataframe tbody tr th:only-of-type {\n",
       "        vertical-align: middle;\n",
       "    }\n",
       "\n",
       "    .dataframe tbody tr th {\n",
       "        vertical-align: top;\n",
       "    }\n",
       "\n",
       "    .dataframe thead th {\n",
       "        text-align: right;\n",
       "    }\n",
       "</style>\n",
       "<table border=\"1\" class=\"dataframe\">\n",
       "  <thead>\n",
       "    <tr style=\"text-align: right;\">\n",
       "      <th></th>\n",
       "      <th>Survived</th>\n",
       "      <th>Pclass</th>\n",
       "      <th>Sex</th>\n",
       "      <th>Age</th>\n",
       "      <th>SibSp</th>\n",
       "      <th>Parch</th>\n",
       "      <th>Fare</th>\n",
       "      <th>Cabin</th>\n",
       "      <th>Embarked</th>\n",
       "    </tr>\n",
       "  </thead>\n",
       "  <tbody>\n",
       "    <tr>\n",
       "      <th>0</th>\n",
       "      <td>0</td>\n",
       "      <td>3</td>\n",
       "      <td>male</td>\n",
       "      <td>22.0</td>\n",
       "      <td>1</td>\n",
       "      <td>0</td>\n",
       "      <td>7.2500</td>\n",
       "      <td>NaN</td>\n",
       "      <td>S</td>\n",
       "    </tr>\n",
       "    <tr>\n",
       "      <th>1</th>\n",
       "      <td>1</td>\n",
       "      <td>1</td>\n",
       "      <td>female</td>\n",
       "      <td>38.0</td>\n",
       "      <td>1</td>\n",
       "      <td>0</td>\n",
       "      <td>71.2833</td>\n",
       "      <td>C85</td>\n",
       "      <td>C</td>\n",
       "    </tr>\n",
       "    <tr>\n",
       "      <th>2</th>\n",
       "      <td>1</td>\n",
       "      <td>3</td>\n",
       "      <td>female</td>\n",
       "      <td>26.0</td>\n",
       "      <td>0</td>\n",
       "      <td>0</td>\n",
       "      <td>7.9250</td>\n",
       "      <td>NaN</td>\n",
       "      <td>S</td>\n",
       "    </tr>\n",
       "    <tr>\n",
       "      <th>3</th>\n",
       "      <td>1</td>\n",
       "      <td>1</td>\n",
       "      <td>female</td>\n",
       "      <td>35.0</td>\n",
       "      <td>1</td>\n",
       "      <td>0</td>\n",
       "      <td>53.1000</td>\n",
       "      <td>C123</td>\n",
       "      <td>S</td>\n",
       "    </tr>\n",
       "    <tr>\n",
       "      <th>4</th>\n",
       "      <td>0</td>\n",
       "      <td>3</td>\n",
       "      <td>male</td>\n",
       "      <td>35.0</td>\n",
       "      <td>0</td>\n",
       "      <td>0</td>\n",
       "      <td>8.0500</td>\n",
       "      <td>NaN</td>\n",
       "      <td>S</td>\n",
       "    </tr>\n",
       "  </tbody>\n",
       "</table>\n",
       "</div>"
      ],
      "text/plain": [
       "   Survived  Pclass     Sex   Age  SibSp  Parch     Fare Cabin Embarked\n",
       "0         0       3    male  22.0      1      0   7.2500   NaN        S\n",
       "1         1       1  female  38.0      1      0  71.2833   C85        C\n",
       "2         1       3  female  26.0      0      0   7.9250   NaN        S\n",
       "3         1       1  female  35.0      1      0  53.1000  C123        S\n",
       "4         0       3    male  35.0      0      0   8.0500   NaN        S"
      ]
     },
     "execution_count": 102,
     "metadata": {},
     "output_type": "execute_result"
    }
   ],
   "source": [
    "data.head()"
   ]
  },
  {
   "cell_type": "code",
   "execution_count": 103,
   "metadata": {},
   "outputs": [
    {
     "data": {
      "text/plain": [
       "Survived      0\n",
       "Pclass        0\n",
       "Sex           0\n",
       "Age         177\n",
       "SibSp         0\n",
       "Parch         0\n",
       "Fare          0\n",
       "Cabin       687\n",
       "Embarked      2\n",
       "dtype: int64"
      ]
     },
     "execution_count": 103,
     "metadata": {},
     "output_type": "execute_result"
    }
   ],
   "source": [
    "pd.isnull(data).sum()"
   ]
  },
  {
   "cell_type": "code",
   "execution_count": 104,
   "metadata": {},
   "outputs": [
    {
     "data": {
      "text/plain": [
       "Survived     0.000000\n",
       "Pclass       0.000000\n",
       "Sex          0.000000\n",
       "Age         19.865320\n",
       "SibSp        0.000000\n",
       "Parch        0.000000\n",
       "Fare         0.000000\n",
       "Cabin       77.104377\n",
       "Embarked     0.224467\n",
       "dtype: float64"
      ]
     },
     "execution_count": 104,
     "metadata": {},
     "output_type": "execute_result"
    }
   ],
   "source": [
    "100*(pd.isnull(data).sum()/len(data))"
   ]
  },
  {
   "cell_type": "code",
   "execution_count": 105,
   "metadata": {},
   "outputs": [],
   "source": [
    "del data['Cabin']"
   ]
  },
  {
   "cell_type": "code",
   "execution_count": 106,
   "metadata": {},
   "outputs": [
    {
     "data": {
      "text/plain": [
       "<matplotlib.axes._subplots.AxesSubplot at 0x1cfda5f88b0>"
      ]
     },
     "execution_count": 106,
     "metadata": {},
     "output_type": "execute_result"
    },
    {
     "data": {
      "image/png": "[encoded data removed]",
      "text/plain": [
       "<Figure size 1080x720 with 1 Axes>"
      ]
     },
     "metadata": {},
     "output_type": "display_data"
    }
   ],
   "source": [
    "plt.figure(figsize=(15,10))\n",
    "sns.heatmap(pd.isnull(data),cmap='viridis',cbar=False,yticklabels=[])"
   ]
  },
  {
   "cell_type": "code",
   "execution_count": 107,
   "metadata": {},
   "outputs": [
    {
     "data": {
      "text/plain": [
       "Survived     0.000000\n",
       "Pclass       0.000000\n",
       "Sex          0.000000\n",
       "Age         19.865320\n",
       "SibSp        0.000000\n",
       "Parch        0.000000\n",
       "Fare         0.000000\n",
       "Embarked     0.224467\n",
       "dtype: float64"
      ]
     },
     "execution_count": 107,
     "metadata": {},
     "output_type": "execute_result"
    }
   ],
   "source": [
    "100*(pd.isnull(data).sum()/len(data))"
   ]
  },
  {
   "cell_type": "code",
   "execution_count": 108,
   "metadata": {},
   "outputs": [
    {
     "data": {
      "text/plain": [
       "<seaborn.axisgrid.PairGrid at 0x1cfda05c8e0>"
      ]
     },
     "execution_count": 108,
     "metadata": {},
     "output_type": "execute_result"
    },
    {
     "data": {
      "image/png": "[encoded data removed]",
      "text/plain": [
       "<Figure size 1080x1080 with 42 Axes>"
      ]
     },
     "metadata": {},
     "output_type": "display_data"
    }
   ],
   "source": [
    "sns.pairplot(data)"
   ]
  },
  {
   "cell_type": "code",
   "execution_count": 109,
   "metadata": {},
   "outputs": [],
   "source": [
    "sns.set_style('whitegrid')"
   ]
  },
  {
   "cell_type": "code",
   "execution_count": 110,
   "metadata": {},
   "outputs": [
    {
     "data": {
      "text/plain": [
       "<matplotlib.axes._subplots.AxesSubplot at 0x1cfdcdc34c0>"
      ]
     },
     "execution_count": 110,
     "metadata": {},
     "output_type": "execute_result"
    },
    {
     "data": {
      "image/png": "[encoded data removed]",
      "text/plain": [
       "<Figure size 432x288 with 1 Axes>"
      ]
     },
     "metadata": {},
     "output_type": "display_data"
    }
   ],
   "source": [
    "sns.barplot(x='Sex',y='Age',data=data)"
   ]
  },
  {
   "cell_type": "code",
   "execution_count": 111,
   "metadata": {},
   "outputs": [
    {
     "data": {
      "text/plain": [
       "<matplotlib.axes._subplots.AxesSubplot at 0x1cfdce08850>"
      ]
     },
     "execution_count": 111,
     "metadata": {},
     "output_type": "execute_result"
    },
    {
     "data": {
      "image/png": "[encoded data removed]",
      "text/plain": [
       "<Figure size 432x288 with 1 Axes>"
      ]
     },
     "metadata": {},
     "output_type": "display_data"
    }
   ],
   "source": [
    "sns.barplot(x='Sex',y='Age',data=data,hue='Pclass')"
   ]
  },
  {
   "cell_type": "code",
   "execution_count": 112,
   "metadata": {},
   "outputs": [
    {
     "data": {
      "text/plain": [
       "<matplotlib.axes._subplots.AxesSubplot at 0x1cfdd3072b0>"
      ]
     },
     "execution_count": 112,
     "metadata": {},
     "output_type": "execute_result"
    },
    {
     "data": {
      "image/png": "[encoded data removed]",
      "text/plain": [
       "<Figure size 432x288 with 1 Axes>"
      ]
     },
     "metadata": {},
     "output_type": "display_data"
    }
   ],
   "source": [
    "sns.barplot(x='SibSp',y='Age',data=data)"
   ]
  },
  {
   "cell_type": "code",
   "execution_count": 113,
   "metadata": {},
   "outputs": [
    {
     "data": {
      "text/plain": [
       "<matplotlib.axes._subplots.AxesSubplot at 0x1cfdd3615b0>"
      ]
     },
     "execution_count": 113,
     "metadata": {},
     "output_type": "execute_result"
    },
    {
     "data": {
      "image/png": "[encoded data removed]",
      "text/plain": [
       "<Figure size 432x288 with 1 Axes>"
      ]
     },
     "metadata": {},
     "output_type": "display_data"
    }
   ],
   "source": [
    "sns.barplot(x='SibSp',y='Age',data=data,hue='Pclass')"
   ]
  },
  {
   "cell_type": "code",
   "execution_count": 114,
   "metadata": {},
   "outputs": [
    {
     "data": {
      "text/plain": [
       "<matplotlib.axes._subplots.AxesSubplot at 0x1cfdd383220>"
      ]
     },
     "execution_count": 114,
     "metadata": {},
     "output_type": "execute_result"
    },
    {
     "data": {
      "image/png": "[encoded data removed]",
      "text/plain": [
       "<Figure size 432x288 with 1 Axes>"
      ]
     },
     "metadata": {},
     "output_type": "display_data"
    }
   ],
   "source": [
    "sns.barplot(x='Parch',y='Age',data=data,hue='Pclass')"
   ]
  },
  {
   "cell_type": "code",
   "execution_count": 115,
   "metadata": {},
   "outputs": [],
   "source": [
    "def fill_missing(x):\n",
    "    age = x['Age']\n",
    "    sex = x['Sex']\n",
    "    pclass = x['Pclass']\n",
    "    if pd.isnull(age):\n",
    "        return data[(data['Sex']==sex)&(data['Pclass']==pclass)]['Age'].mean()\n",
    "    else:\n",
    "        return age"
   ]
  },
  {
   "cell_type": "code",
   "execution_count": 116,
   "metadata": {},
   "outputs": [],
   "source": [
    "data['Age'] = data[['Sex','Pclass','Age']].apply(fill_missing,axis=1)"
   ]
  },
  {
   "cell_type": "code",
   "execution_count": 117,
   "metadata": {},
   "outputs": [
    {
     "data": {
      "text/plain": [
       "Survived    0.000000\n",
       "Pclass      0.000000\n",
       "Sex         0.000000\n",
       "Age         0.000000\n",
       "SibSp       0.000000\n",
       "Parch       0.000000\n",
       "Fare        0.000000\n",
       "Embarked    0.224467\n",
       "dtype: float64"
      ]
     },
     "execution_count": 117,
     "metadata": {},
     "output_type": "execute_result"
    }
   ],
   "source": [
    "100*(pd.isnull(data).sum()/len(data))"
   ]
  },
  {
   "cell_type": "code",
   "execution_count": 118,
   "metadata": {},
   "outputs": [],
   "source": [
    "data.dropna(inplace=True)"
   ]
  },
  {
   "cell_type": "code",
   "execution_count": 119,
   "metadata": {},
   "outputs": [
    {
     "name": "stdout",
     "output_type": "stream",
     "text": [
      "<class 'pandas.core.frame.DataFrame'>\n",
      "Int64Index: 889 entries, 0 to 890\n",
      "Data columns (total 8 columns):\n",
      " #   Column    Non-Null Count  Dtype  \n",
      "---  ------    --------------  -----  \n",
      " 0   Survived  889 non-null    int64  \n",
      " 1   Pclass    889 non-null    int64  \n",
      " 2   Sex       889 non-null    object \n",
      " 3   Age       889 non-null    float64\n",
      " 4   SibSp     889 non-null    int64  \n",
      " 5   Parch     889 non-null    int64  \n",
      " 6   Fare      889 non-null    float64\n",
      " 7   Embarked  889 non-null    object \n",
      "dtypes: float64(2), int64(4), object(2)\n",
      "memory usage: 62.5+ KB\n"
     ]
    }
   ],
   "source": [
    "data.info()"
   ]
  },
  {
   "cell_type": "code",
   "execution_count": 120,
   "metadata": {},
   "outputs": [
    {
     "data": {
      "text/html": [
       "<div>\n",
       "<style scoped>\n",
       "    .dataframe tbody tr th:only-of-type {\n",
       "        vertical-align: middle;\n",
       "    }\n",
       "\n",
       "    .dataframe tbody tr th {\n",
       "        vertical-align: top;\n",
       "    }\n",
       "\n",
       "    .dataframe thead th {\n",
       "        text-align: right;\n",
       "    }\n",
       "</style>\n",
       "<table border=\"1\" class=\"dataframe\">\n",
       "  <thead>\n",
       "    <tr style=\"text-align: right;\">\n",
       "      <th></th>\n",
       "      <th>Survived</th>\n",
       "      <th>Pclass</th>\n",
       "      <th>Age</th>\n",
       "      <th>SibSp</th>\n",
       "      <th>Parch</th>\n",
       "      <th>Fare</th>\n",
       "      <th>Sex_female</th>\n",
       "      <th>Sex_male</th>\n",
       "      <th>Embarked_C</th>\n",
       "      <th>Embarked_Q</th>\n",
       "      <th>Embarked_S</th>\n",
       "    </tr>\n",
       "  </thead>\n",
       "  <tbody>\n",
       "    <tr>\n",
       "      <th>0</th>\n",
       "      <td>0</td>\n",
       "      <td>3</td>\n",
       "      <td>22.0</td>\n",
       "      <td>1</td>\n",
       "      <td>0</td>\n",
       "      <td>7.2500</td>\n",
       "      <td>0</td>\n",
       "      <td>1</td>\n",
       "      <td>0</td>\n",
       "      <td>0</td>\n",
       "      <td>1</td>\n",
       "    </tr>\n",
       "    <tr>\n",
       "      <th>1</th>\n",
       "      <td>1</td>\n",
       "      <td>1</td>\n",
       "      <td>38.0</td>\n",
       "      <td>1</td>\n",
       "      <td>0</td>\n",
       "      <td>71.2833</td>\n",
       "      <td>1</td>\n",
       "      <td>0</td>\n",
       "      <td>1</td>\n",
       "      <td>0</td>\n",
       "      <td>0</td>\n",
       "    </tr>\n",
       "    <tr>\n",
       "      <th>2</th>\n",
       "      <td>1</td>\n",
       "      <td>3</td>\n",
       "      <td>26.0</td>\n",
       "      <td>0</td>\n",
       "      <td>0</td>\n",
       "      <td>7.9250</td>\n",
       "      <td>1</td>\n",
       "      <td>0</td>\n",
       "      <td>0</td>\n",
       "      <td>0</td>\n",
       "      <td>1</td>\n",
       "    </tr>\n",
       "    <tr>\n",
       "      <th>3</th>\n",
       "      <td>1</td>\n",
       "      <td>1</td>\n",
       "      <td>35.0</td>\n",
       "      <td>1</td>\n",
       "      <td>0</td>\n",
       "      <td>53.1000</td>\n",
       "      <td>1</td>\n",
       "      <td>0</td>\n",
       "      <td>0</td>\n",
       "      <td>0</td>\n",
       "      <td>1</td>\n",
       "    </tr>\n",
       "    <tr>\n",
       "      <th>4</th>\n",
       "      <td>0</td>\n",
       "      <td>3</td>\n",
       "      <td>35.0</td>\n",
       "      <td>0</td>\n",
       "      <td>0</td>\n",
       "      <td>8.0500</td>\n",
       "      <td>0</td>\n",
       "      <td>1</td>\n",
       "      <td>0</td>\n",
       "      <td>0</td>\n",
       "      <td>1</td>\n",
       "    </tr>\n",
       "  </tbody>\n",
       "</table>\n",
       "</div>"
      ],
      "text/plain": [
       "   Survived  Pclass   Age  SibSp  Parch     Fare  Sex_female  Sex_male  \\\n",
       "0         0       3  22.0      1      0   7.2500           0         1   \n",
       "1         1       1  38.0      1      0  71.2833           1         0   \n",
       "2         1       3  26.0      0      0   7.9250           1         0   \n",
       "3         1       1  35.0      1      0  53.1000           1         0   \n",
       "4         0       3  35.0      0      0   8.0500           0         1   \n",
       "\n",
       "   Embarked_C  Embarked_Q  Embarked_S  \n",
       "0           0           0           1  \n",
       "1           1           0           0  \n",
       "2           0           0           1  \n",
       "3           0           0           1  \n",
       "4           0           0           1  "
      ]
     },
     "execution_count": 120,
     "metadata": {},
     "output_type": "execute_result"
    }
   ],
   "source": [
    "data = pd.get_dummies(data)\n",
    "data.head()"
   ]
  },
  {
   "cell_type": "code",
   "execution_count": 121,
   "metadata": {},
   "outputs": [],
   "source": [
    "x = data.drop('Survived',axis=1)\n",
    "y = data['Survived']"
   ]
  },
  {
   "cell_type": "code",
   "execution_count": 122,
   "metadata": {},
   "outputs": [],
   "source": [
    "import warnings\n",
    "warnings.filterwarnings('ignore')"
   ]
  },
  {
   "cell_type": "code",
   "execution_count": 123,
   "metadata": {},
   "outputs": [],
   "source": [
    "from sklearn.model_selection import train_test_split"
   ]
  },
  {
   "cell_type": "code",
   "execution_count": 124,
   "metadata": {},
   "outputs": [],
   "source": [
    "xtrain, xtest, ytrain, ytest = train_test_split(x,y,test_size=0.3, random_state=100)"
   ]
  },
  {
   "cell_type": "code",
   "execution_count": 125,
   "metadata": {},
   "outputs": [],
   "source": [
    "from sklearn.linear_model import LogisticRegression"
   ]
  },
  {
   "cell_type": "code",
   "execution_count": 126,
   "metadata": {},
   "outputs": [],
   "source": [
    "model_logi = LogisticRegression().fit(xtrain,ytrain)"
   ]
  },
  {
   "cell_type": "code",
   "execution_count": 127,
   "metadata": {},
   "outputs": [
    {
     "data": {
      "text/plain": [
       "0.7865168539325843"
      ]
     },
     "execution_count": 127,
     "metadata": {},
     "output_type": "execute_result"
    }
   ],
   "source": [
    "model_logi.score(xtest,ytest)"
   ]
  },
  {
   "cell_type": "code",
   "execution_count": 128,
   "metadata": {},
   "outputs": [],
   "source": [
    "ypred = model_logi.predict(xtest)"
   ]
  },
  {
   "cell_type": "code",
   "execution_count": 129,
   "metadata": {},
   "outputs": [
    {
     "data": {
      "text/plain": [
       "<matplotlib.collections.PathCollection at 0x1cfdd550fd0>"
      ]
     },
     "execution_count": 129,
     "metadata": {},
     "output_type": "execute_result"
    },
    {
     "data": {
      "image/png": "[encoded data removed]",
      "text/plain": [
       "<Figure size 432x288 with 1 Axes>"
      ]
     },
     "metadata": {},
     "output_type": "display_data"
    }
   ],
   "source": [
    "plt.scatter(ytest.values,ypred)"
   ]
  },
  {
   "cell_type": "code",
   "execution_count": 130,
   "metadata": {},
   "outputs": [
    {
     "data": {
      "text/plain": [
       "0    549\n",
       "1    340\n",
       "Name: Survived, dtype: int64"
      ]
     },
     "execution_count": 130,
     "metadata": {},
     "output_type": "execute_result"
    }
   ],
   "source": [
    "data['Survived'].value_counts()"
   ]
  },
  {
   "cell_type": "code",
   "execution_count": 131,
   "metadata": {},
   "outputs": [
    {
     "data": {
      "text/plain": [
       "0    389\n",
       "1    233\n",
       "Name: Survived, dtype: int64"
      ]
     },
     "execution_count": 131,
     "metadata": {},
     "output_type": "execute_result"
    }
   ],
   "source": [
    "ytrain.value_counts()"
   ]
  },
  {
   "cell_type": "code",
   "execution_count": 132,
   "metadata": {},
   "outputs": [
    {
     "data": {
      "text/plain": [
       "0    160\n",
       "1    107\n",
       "Name: Survived, dtype: int64"
      ]
     },
     "execution_count": 132,
     "metadata": {},
     "output_type": "execute_result"
    }
   ],
   "source": [
    "ytest.value_counts()"
   ]
  },
  {
   "cell_type": "code",
   "execution_count": 133,
   "metadata": {},
   "outputs": [
    {
     "data": {
      "text/plain": [
       "0    171\n",
       "1     96\n",
       "dtype: int64"
      ]
     },
     "execution_count": 133,
     "metadata": {},
     "output_type": "execute_result"
    }
   ],
   "source": [
    "pd.Series(ypred).value_counts()"
   ]
  },
  {
   "cell_type": "code",
   "execution_count": 134,
   "metadata": {},
   "outputs": [],
   "source": [
    "from sklearn.metrics import confusion_matrix, classification_report"
   ]
  },
  {
   "cell_type": "code",
   "execution_count": 135,
   "metadata": {},
   "outputs": [
    {
     "data": {
      "text/plain": [
       "<matplotlib.axes._subplots.AxesSubplot at 0x1cfdd589cd0>"
      ]
     },
     "execution_count": 135,
     "metadata": {},
     "output_type": "execute_result"
    },
    {
     "data": {
      "image/png": "[encoded data removed]",
      "text/plain": [
       "<Figure size 432x288 with 1 Axes>"
      ]
     },
     "metadata": {},
     "output_type": "display_data"
    }
   ],
   "source": [
    "sns.heatmap(pd.DataFrame(confusion_matrix(ytest,ypred),\n",
    "                         index=['Actually Not Survived','Actually Survived'], \n",
    "                         columns = ['Predicted Not Survived','Predicted Survived']), \n",
    "            annot=True,cbar=False, fmt='d',)"
   ]
  },
  {
   "cell_type": "code",
   "execution_count": 136,
   "metadata": {},
   "outputs": [
    {
     "name": "stdout",
     "output_type": "stream",
     "text": [
      "              precision    recall  f1-score   support\n",
      "\n",
      "           0       0.80      0.86      0.83       160\n",
      "           1       0.76      0.68      0.72       107\n",
      "\n",
      "    accuracy                           0.79       267\n",
      "   macro avg       0.78      0.77      0.77       267\n",
      "weighted avg       0.78      0.79      0.78       267\n",
      "\n"
     ]
    }
   ],
   "source": [
    "print(classification_report(ytest,ypred))"
   ]
  },
  {
   "cell_type": "code",
   "execution_count": 137,
   "metadata": {},
   "outputs": [
    {
     "data": {
      "text/html": [
       "<div>\n",
       "<style scoped>\n",
       "    .dataframe tbody tr th:only-of-type {\n",
       "        vertical-align: middle;\n",
       "    }\n",
       "\n",
       "    .dataframe tbody tr th {\n",
       "        vertical-align: top;\n",
       "    }\n",
       "\n",
       "    .dataframe thead th {\n",
       "        text-align: right;\n",
       "    }\n",
       "</style>\n",
       "<table border=\"1\" class=\"dataframe\">\n",
       "  <thead>\n",
       "    <tr style=\"text-align: right;\">\n",
       "      <th></th>\n",
       "      <th>Survived</th>\n",
       "      <th>Pclass</th>\n",
       "      <th>Age</th>\n",
       "      <th>SibSp</th>\n",
       "      <th>Parch</th>\n",
       "      <th>Fare</th>\n",
       "      <th>Sex_female</th>\n",
       "      <th>Sex_male</th>\n",
       "      <th>Embarked_C</th>\n",
       "      <th>Embarked_Q</th>\n",
       "      <th>Embarked_S</th>\n",
       "    </tr>\n",
       "  </thead>\n",
       "  <tbody>\n",
       "    <tr>\n",
       "      <th>count</th>\n",
       "      <td>889.000000</td>\n",
       "      <td>889.000000</td>\n",
       "      <td>889.000000</td>\n",
       "      <td>889.000000</td>\n",
       "      <td>889.000000</td>\n",
       "      <td>889.000000</td>\n",
       "      <td>889.000000</td>\n",
       "      <td>889.000000</td>\n",
       "      <td>889.000000</td>\n",
       "      <td>889.000000</td>\n",
       "      <td>889.000000</td>\n",
       "    </tr>\n",
       "    <tr>\n",
       "      <th>mean</th>\n",
       "      <td>0.382452</td>\n",
       "      <td>2.311586</td>\n",
       "      <td>29.272115</td>\n",
       "      <td>0.524184</td>\n",
       "      <td>0.382452</td>\n",
       "      <td>32.096681</td>\n",
       "      <td>0.350956</td>\n",
       "      <td>0.649044</td>\n",
       "      <td>0.188976</td>\n",
       "      <td>0.086614</td>\n",
       "      <td>0.724409</td>\n",
       "    </tr>\n",
       "    <tr>\n",
       "      <th>std</th>\n",
       "      <td>0.486260</td>\n",
       "      <td>0.834700</td>\n",
       "      <td>13.247458</td>\n",
       "      <td>1.103705</td>\n",
       "      <td>0.806761</td>\n",
       "      <td>49.697504</td>\n",
       "      <td>0.477538</td>\n",
       "      <td>0.477538</td>\n",
       "      <td>0.391710</td>\n",
       "      <td>0.281427</td>\n",
       "      <td>0.447063</td>\n",
       "    </tr>\n",
       "    <tr>\n",
       "      <th>min</th>\n",
       "      <td>0.000000</td>\n",
       "      <td>1.000000</td>\n",
       "      <td>0.420000</td>\n",
       "      <td>0.000000</td>\n",
       "      <td>0.000000</td>\n",
       "      <td>0.000000</td>\n",
       "      <td>0.000000</td>\n",
       "      <td>0.000000</td>\n",
       "      <td>0.000000</td>\n",
       "      <td>0.000000</td>\n",
       "      <td>0.000000</td>\n",
       "    </tr>\n",
       "    <tr>\n",
       "      <th>25%</th>\n",
       "      <td>0.000000</td>\n",
       "      <td>2.000000</td>\n",
       "      <td>21.750000</td>\n",
       "      <td>0.000000</td>\n",
       "      <td>0.000000</td>\n",
       "      <td>7.895800</td>\n",
       "      <td>0.000000</td>\n",
       "      <td>0.000000</td>\n",
       "      <td>0.000000</td>\n",
       "      <td>0.000000</td>\n",
       "      <td>0.000000</td>\n",
       "    </tr>\n",
       "    <tr>\n",
       "      <th>50%</th>\n",
       "      <td>0.000000</td>\n",
       "      <td>3.000000</td>\n",
       "      <td>26.507589</td>\n",
       "      <td>0.000000</td>\n",
       "      <td>0.000000</td>\n",
       "      <td>14.454200</td>\n",
       "      <td>0.000000</td>\n",
       "      <td>1.000000</td>\n",
       "      <td>0.000000</td>\n",
       "      <td>0.000000</td>\n",
       "      <td>1.000000</td>\n",
       "    </tr>\n",
       "    <tr>\n",
       "      <th>75%</th>\n",
       "      <td>1.000000</td>\n",
       "      <td>3.000000</td>\n",
       "      <td>36.000000</td>\n",
       "      <td>1.000000</td>\n",
       "      <td>0.000000</td>\n",
       "      <td>31.000000</td>\n",
       "      <td>1.000000</td>\n",
       "      <td>1.000000</td>\n",
       "      <td>0.000000</td>\n",
       "      <td>0.000000</td>\n",
       "      <td>1.000000</td>\n",
       "    </tr>\n",
       "    <tr>\n",
       "      <th>max</th>\n",
       "      <td>1.000000</td>\n",
       "      <td>3.000000</td>\n",
       "      <td>80.000000</td>\n",
       "      <td>8.000000</td>\n",
       "      <td>6.000000</td>\n",
       "      <td>512.329200</td>\n",
       "      <td>1.000000</td>\n",
       "      <td>1.000000</td>\n",
       "      <td>1.000000</td>\n",
       "      <td>1.000000</td>\n",
       "      <td>1.000000</td>\n",
       "    </tr>\n",
       "  </tbody>\n",
       "</table>\n",
       "</div>"
      ],
      "text/plain": [
       "         Survived      Pclass         Age       SibSp       Parch        Fare  \\\n",
       "count  889.000000  889.000000  889.000000  889.000000  889.000000  889.000000   \n",
       "mean     0.382452    2.311586   29.272115    0.524184    0.382452   32.096681   \n",
       "std      0.486260    0.834700   13.247458    1.103705    0.806761   49.697504   \n",
       "min      0.000000    1.000000    0.420000    0.000000    0.000000    0.000000   \n",
       "25%      0.000000    2.000000   21.750000    0.000000    0.000000    7.895800   \n",
       "50%      0.000000    3.000000   26.507589    0.000000    0.000000   14.454200   \n",
       "75%      1.000000    3.000000   36.000000    1.000000    0.000000   31.000000   \n",
       "max      1.000000    3.000000   80.000000    8.000000    6.000000  512.329200   \n",
       "\n",
       "       Sex_female    Sex_male  Embarked_C  Embarked_Q  Embarked_S  \n",
       "count  889.000000  889.000000  889.000000  889.000000  889.000000  \n",
       "mean     0.350956    0.649044    0.188976    0.086614    0.724409  \n",
       "std      0.477538    0.477538    0.391710    0.281427    0.447063  \n",
       "min      0.000000    0.000000    0.000000    0.000000    0.000000  \n",
       "25%      0.000000    0.000000    0.000000    0.000000    0.000000  \n",
       "50%      0.000000    1.000000    0.000000    0.000000    1.000000  \n",
       "75%      1.000000    1.000000    0.000000    0.000000    1.000000  \n",
       "max      1.000000    1.000000    1.000000    1.000000    1.000000  "
      ]
     },
     "execution_count": 137,
     "metadata": {},
     "output_type": "execute_result"
    }
   ],
   "source": [
    "data.describe()"
   ]
  },
  {
   "cell_type": "code",
   "execution_count": 138,
   "metadata": {},
   "outputs": [
    {
     "data": {
      "text/html": [
       "<div>\n",
       "<style scoped>\n",
       "    .dataframe tbody tr th:only-of-type {\n",
       "        vertical-align: middle;\n",
       "    }\n",
       "\n",
       "    .dataframe tbody tr th {\n",
       "        vertical-align: top;\n",
       "    }\n",
       "\n",
       "    .dataframe thead th {\n",
       "        text-align: right;\n",
       "    }\n",
       "</style>\n",
       "<table border=\"1\" class=\"dataframe\">\n",
       "  <thead>\n",
       "    <tr style=\"text-align: right;\">\n",
       "      <th></th>\n",
       "      <th>Pclass_1</th>\n",
       "      <th>Pclass_2</th>\n",
       "      <th>Pclass_3</th>\n",
       "    </tr>\n",
       "  </thead>\n",
       "  <tbody>\n",
       "    <tr>\n",
       "      <th>0</th>\n",
       "      <td>0</td>\n",
       "      <td>0</td>\n",
       "      <td>1</td>\n",
       "    </tr>\n",
       "    <tr>\n",
       "      <th>1</th>\n",
       "      <td>1</td>\n",
       "      <td>0</td>\n",
       "      <td>0</td>\n",
       "    </tr>\n",
       "    <tr>\n",
       "      <th>2</th>\n",
       "      <td>0</td>\n",
       "      <td>0</td>\n",
       "      <td>1</td>\n",
       "    </tr>\n",
       "    <tr>\n",
       "      <th>3</th>\n",
       "      <td>1</td>\n",
       "      <td>0</td>\n",
       "      <td>0</td>\n",
       "    </tr>\n",
       "    <tr>\n",
       "      <th>4</th>\n",
       "      <td>0</td>\n",
       "      <td>0</td>\n",
       "      <td>1</td>\n",
       "    </tr>\n",
       "  </tbody>\n",
       "</table>\n",
       "</div>"
      ],
      "text/plain": [
       "   Pclass_1  Pclass_2  Pclass_3\n",
       "0         0         0         1\n",
       "1         1         0         0\n",
       "2         0         0         1\n",
       "3         1         0         0\n",
       "4         0         0         1"
      ]
     },
     "execution_count": 138,
     "metadata": {},
     "output_type": "execute_result"
    }
   ],
   "source": [
    "pclass = pd.DataFrame(pd.get_dummies(data['Pclass']).values,columns=['Pclass_1','Pclass_2','Pclass_3'], index=data.index)\n",
    "pclass.head()"
   ]
  },
  {
   "cell_type": "code",
   "execution_count": 139,
   "metadata": {},
   "outputs": [
    {
     "data": {
      "text/plain": [
       "0    606\n",
       "1    209\n",
       "2     28\n",
       "4     18\n",
       "3     16\n",
       "8      7\n",
       "5      5\n",
       "Name: SibSp, dtype: int64"
      ]
     },
     "execution_count": 139,
     "metadata": {},
     "output_type": "execute_result"
    }
   ],
   "source": [
    "data['SibSp'].value_counts()"
   ]
  },
  {
   "cell_type": "code",
   "execution_count": 140,
   "metadata": {},
   "outputs": [],
   "source": [
    "sibsp = pd.DataFrame(pd.get_dummies(data['SibSp']).values,columns=['SibSp_0','SibSp_1','SibSp_2','SibSp_3','SibSp_4','SibSp_5','SibSp_8'], index=data.index)"
   ]
  },
  {
   "cell_type": "code",
   "execution_count": 141,
   "metadata": {},
   "outputs": [
    {
     "data": {
      "text/plain": [
       "0    676\n",
       "1    118\n",
       "2     80\n",
       "5      5\n",
       "3      5\n",
       "4      4\n",
       "6      1\n",
       "Name: Parch, dtype: int64"
      ]
     },
     "execution_count": 141,
     "metadata": {},
     "output_type": "execute_result"
    }
   ],
   "source": [
    "data['Parch'].value_counts()"
   ]
  },
  {
   "cell_type": "code",
   "execution_count": 142,
   "metadata": {},
   "outputs": [],
   "source": [
    "parch = pd.DataFrame(pd.get_dummies(data['Parch']).values,columns=['Parch_0','Parch_1','Parch_2','Parch_3','Parch_4','Parch_5','Parch_6'], index=data.index)"
   ]
  },
  {
   "cell_type": "code",
   "execution_count": 143,
   "metadata": {},
   "outputs": [],
   "source": [
    "data = pd.concat([data,pclass,sibsp,parch],axis=1)"
   ]
  },
  {
   "cell_type": "code",
   "execution_count": 144,
   "metadata": {},
   "outputs": [
    {
     "data": {
      "text/html": [
       "<div>\n",
       "<style scoped>\n",
       "    .dataframe tbody tr th:only-of-type {\n",
       "        vertical-align: middle;\n",
       "    }\n",
       "\n",
       "    .dataframe tbody tr th {\n",
       "        vertical-align: top;\n",
       "    }\n",
       "\n",
       "    .dataframe thead th {\n",
       "        text-align: right;\n",
       "    }\n",
       "</style>\n",
       "<table border=\"1\" class=\"dataframe\">\n",
       "  <thead>\n",
       "    <tr style=\"text-align: right;\">\n",
       "      <th></th>\n",
       "      <th>Survived</th>\n",
       "      <th>Pclass</th>\n",
       "      <th>Age</th>\n",
       "      <th>SibSp</th>\n",
       "      <th>Parch</th>\n",
       "      <th>Fare</th>\n",
       "      <th>Sex_female</th>\n",
       "      <th>Sex_male</th>\n",
       "      <th>Embarked_C</th>\n",
       "      <th>Embarked_Q</th>\n",
       "      <th>...</th>\n",
       "      <th>SibSp_4</th>\n",
       "      <th>SibSp_5</th>\n",
       "      <th>SibSp_8</th>\n",
       "      <th>Parch_0</th>\n",
       "      <th>Parch_1</th>\n",
       "      <th>Parch_2</th>\n",
       "      <th>Parch_3</th>\n",
       "      <th>Parch_4</th>\n",
       "      <th>Parch_5</th>\n",
       "      <th>Parch_6</th>\n",
       "    </tr>\n",
       "  </thead>\n",
       "  <tbody>\n",
       "    <tr>\n",
       "      <th>0</th>\n",
       "      <td>0</td>\n",
       "      <td>3</td>\n",
       "      <td>22.0</td>\n",
       "      <td>1</td>\n",
       "      <td>0</td>\n",
       "      <td>7.2500</td>\n",
       "      <td>0</td>\n",
       "      <td>1</td>\n",
       "      <td>0</td>\n",
       "      <td>0</td>\n",
       "      <td>...</td>\n",
       "      <td>0</td>\n",
       "      <td>0</td>\n",
       "      <td>0</td>\n",
       "      <td>1</td>\n",
       "      <td>0</td>\n",
       "      <td>0</td>\n",
       "      <td>0</td>\n",
       "      <td>0</td>\n",
       "      <td>0</td>\n",
       "      <td>0</td>\n",
       "    </tr>\n",
       "    <tr>\n",
       "      <th>1</th>\n",
       "      <td>1</td>\n",
       "      <td>1</td>\n",
       "      <td>38.0</td>\n",
       "      <td>1</td>\n",
       "      <td>0</td>\n",
       "      <td>71.2833</td>\n",
       "      <td>1</td>\n",
       "      <td>0</td>\n",
       "      <td>1</td>\n",
       "      <td>0</td>\n",
       "      <td>...</td>\n",
       "      <td>0</td>\n",
       "      <td>0</td>\n",
       "      <td>0</td>\n",
       "      <td>1</td>\n",
       "      <td>0</td>\n",
       "      <td>0</td>\n",
       "      <td>0</td>\n",
       "      <td>0</td>\n",
       "      <td>0</td>\n",
       "      <td>0</td>\n",
       "    </tr>\n",
       "    <tr>\n",
       "      <th>2</th>\n",
       "      <td>1</td>\n",
       "      <td>3</td>\n",
       "      <td>26.0</td>\n",
       "      <td>0</td>\n",
       "      <td>0</td>\n",
       "      <td>7.9250</td>\n",
       "      <td>1</td>\n",
       "      <td>0</td>\n",
       "      <td>0</td>\n",
       "      <td>0</td>\n",
       "      <td>...</td>\n",
       "      <td>0</td>\n",
       "      <td>0</td>\n",
       "      <td>0</td>\n",
       "      <td>1</td>\n",
       "      <td>0</td>\n",
       "      <td>0</td>\n",
       "      <td>0</td>\n",
       "      <td>0</td>\n",
       "      <td>0</td>\n",
       "      <td>0</td>\n",
       "    </tr>\n",
       "    <tr>\n",
       "      <th>3</th>\n",
       "      <td>1</td>\n",
       "      <td>1</td>\n",
       "      <td>35.0</td>\n",
       "      <td>1</td>\n",
       "      <td>0</td>\n",
       "      <td>53.1000</td>\n",
       "      <td>1</td>\n",
       "      <td>0</td>\n",
       "      <td>0</td>\n",
       "      <td>0</td>\n",
       "      <td>...</td>\n",
       "      <td>0</td>\n",
       "      <td>0</td>\n",
       "      <td>0</td>\n",
       "      <td>1</td>\n",
       "      <td>0</td>\n",
       "      <td>0</td>\n",
       "      <td>0</td>\n",
       "      <td>0</td>\n",
       "      <td>0</td>\n",
       "      <td>0</td>\n",
       "    </tr>\n",
       "    <tr>\n",
       "      <th>4</th>\n",
       "      <td>0</td>\n",
       "      <td>3</td>\n",
       "      <td>35.0</td>\n",
       "      <td>0</td>\n",
       "      <td>0</td>\n",
       "      <td>8.0500</td>\n",
       "      <td>0</td>\n",
       "      <td>1</td>\n",
       "      <td>0</td>\n",
       "      <td>0</td>\n",
       "      <td>...</td>\n",
       "      <td>0</td>\n",
       "      <td>0</td>\n",
       "      <td>0</td>\n",
       "      <td>1</td>\n",
       "      <td>0</td>\n",
       "      <td>0</td>\n",
       "      <td>0</td>\n",
       "      <td>0</td>\n",
       "      <td>0</td>\n",
       "      <td>0</td>\n",
       "    </tr>\n",
       "  </tbody>\n",
       "</table>\n",
       "<p>5 rows × 28 columns</p>\n",
       "</div>"
      ],
      "text/plain": [
       "   Survived  Pclass   Age  SibSp  Parch     Fare  Sex_female  Sex_male  \\\n",
       "0         0       3  22.0      1      0   7.2500           0         1   \n",
       "1         1       1  38.0      1      0  71.2833           1         0   \n",
       "2         1       3  26.0      0      0   7.9250           1         0   \n",
       "3         1       1  35.0      1      0  53.1000           1         0   \n",
       "4         0       3  35.0      0      0   8.0500           0         1   \n",
       "\n",
       "   Embarked_C  Embarked_Q  ...  SibSp_4  SibSp_5  SibSp_8  Parch_0  Parch_1  \\\n",
       "0           0           0  ...        0        0        0        1        0   \n",
       "1           1           0  ...        0        0        0        1        0   \n",
       "2           0           0  ...        0        0        0        1        0   \n",
       "3           0           0  ...        0        0        0        1        0   \n",
       "4           0           0  ...        0        0        0        1        0   \n",
       "\n",
       "   Parch_2  Parch_3  Parch_4  Parch_5  Parch_6  \n",
       "0        0        0        0        0        0  \n",
       "1        0        0        0        0        0  \n",
       "2        0        0        0        0        0  \n",
       "3        0        0        0        0        0  \n",
       "4        0        0        0        0        0  \n",
       "\n",
       "[5 rows x 28 columns]"
      ]
     },
     "execution_count": 144,
     "metadata": {},
     "output_type": "execute_result"
    }
   ],
   "source": [
    "data.head()"
   ]
  },
  {
   "cell_type": "code",
   "execution_count": 145,
   "metadata": {},
   "outputs": [],
   "source": [
    "del data['Pclass']\n",
    "del data['SibSp']\n",
    "del data['Parch']"
   ]
  },
  {
   "cell_type": "code",
   "execution_count": 146,
   "metadata": {},
   "outputs": [],
   "source": [
    "del data['Sex_female']"
   ]
  },
  {
   "cell_type": "code",
   "execution_count": 147,
   "metadata": {},
   "outputs": [
    {
     "name": "stdout",
     "output_type": "stream",
     "text": [
      "<class 'pandas.core.frame.DataFrame'>\n",
      "Int64Index: 889 entries, 0 to 890\n",
      "Data columns (total 24 columns):\n",
      " #   Column      Non-Null Count  Dtype  \n",
      "---  ------      --------------  -----  \n",
      " 0   Survived    889 non-null    int64  \n",
      " 1   Age         889 non-null    float64\n",
      " 2   Fare        889 non-null    float64\n",
      " 3   Sex_male    889 non-null    uint8  \n",
      " 4   Embarked_C  889 non-null    uint8  \n",
      " 5   Embarked_Q  889 non-null    uint8  \n",
      " 6   Embarked_S  889 non-null    uint8  \n",
      " 7   Pclass_1    889 non-null    uint8  \n",
      " 8   Pclass_2    889 non-null    uint8  \n",
      " 9   Pclass_3    889 non-null    uint8  \n",
      " 10  SibSp_0     889 non-null    uint8  \n",
      " 11  SibSp_1     889 non-null    uint8  \n",
      " 12  SibSp_2     889 non-null    uint8  \n",
      " 13  SibSp_3     889 non-null    uint8  \n",
      " 14  SibSp_4     889 non-null    uint8  \n",
      " 15  SibSp_5     889 non-null    uint8  \n",
      " 16  SibSp_8     889 non-null    uint8  \n",
      " 17  Parch_0     889 non-null    uint8  \n",
      " 18  Parch_1     889 non-null    uint8  \n",
      " 19  Parch_2     889 non-null    uint8  \n",
      " 20  Parch_3     889 non-null    uint8  \n",
      " 21  Parch_4     889 non-null    uint8  \n",
      " 22  Parch_5     889 non-null    uint8  \n",
      " 23  Parch_6     889 non-null    uint8  \n",
      "dtypes: float64(2), int64(1), uint8(21)\n",
      "memory usage: 46.0 KB\n"
     ]
    }
   ],
   "source": [
    "data.info()"
   ]
  },
  {
   "cell_type": "code",
   "execution_count": 148,
   "metadata": {},
   "outputs": [],
   "source": [
    "x = data.drop('Survived',axis=1)\n",
    "y = data['Survived']"
   ]
  },
  {
   "cell_type": "code",
   "execution_count": 149,
   "metadata": {},
   "outputs": [],
   "source": [
    "from sklearn.preprocessing import StandardScaler"
   ]
  },
  {
   "cell_type": "code",
   "execution_count": 150,
   "metadata": {},
   "outputs": [
    {
     "data": {
      "text/html": [
       "<div>\n",
       "<style scoped>\n",
       "    .dataframe tbody tr th:only-of-type {\n",
       "        vertical-align: middle;\n",
       "    }\n",
       "\n",
       "    .dataframe tbody tr th {\n",
       "        vertical-align: top;\n",
       "    }\n",
       "\n",
       "    .dataframe thead th {\n",
       "        text-align: right;\n",
       "    }\n",
       "</style>\n",
       "<table border=\"1\" class=\"dataframe\">\n",
       "  <thead>\n",
       "    <tr style=\"text-align: right;\">\n",
       "      <th></th>\n",
       "      <th>Age</th>\n",
       "      <th>Fare</th>\n",
       "      <th>Sex_male</th>\n",
       "      <th>Embarked_C</th>\n",
       "      <th>Embarked_Q</th>\n",
       "      <th>Embarked_S</th>\n",
       "      <th>Pclass_1</th>\n",
       "      <th>Pclass_2</th>\n",
       "      <th>Pclass_3</th>\n",
       "      <th>SibSp_0</th>\n",
       "      <th>...</th>\n",
       "      <th>SibSp_4</th>\n",
       "      <th>SibSp_5</th>\n",
       "      <th>SibSp_8</th>\n",
       "      <th>Parch_0</th>\n",
       "      <th>Parch_1</th>\n",
       "      <th>Parch_2</th>\n",
       "      <th>Parch_3</th>\n",
       "      <th>Parch_4</th>\n",
       "      <th>Parch_5</th>\n",
       "      <th>Parch_6</th>\n",
       "    </tr>\n",
       "  </thead>\n",
       "  <tbody>\n",
       "    <tr>\n",
       "      <th>0</th>\n",
       "      <td>-0.549253</td>\n",
       "      <td>-0.500240</td>\n",
       "      <td>0.735342</td>\n",
       "      <td>-0.482711</td>\n",
       "      <td>-0.307941</td>\n",
       "      <td>0.616794</td>\n",
       "      <td>-0.563060</td>\n",
       "      <td>-0.510875</td>\n",
       "      <td>0.900328</td>\n",
       "      <td>-1.463333</td>\n",
       "      <td>...</td>\n",
       "      <td>-0.143756</td>\n",
       "      <td>-0.075207</td>\n",
       "      <td>-0.089087</td>\n",
       "      <td>0.561328</td>\n",
       "      <td>-0.391213</td>\n",
       "      <td>-0.314464</td>\n",
       "      <td>-0.075207</td>\n",
       "      <td>-0.067229</td>\n",
       "      <td>-0.075207</td>\n",
       "      <td>-0.033558</td>\n",
       "    </tr>\n",
       "    <tr>\n",
       "      <th>1</th>\n",
       "      <td>0.659206</td>\n",
       "      <td>0.788947</td>\n",
       "      <td>-1.359911</td>\n",
       "      <td>2.071634</td>\n",
       "      <td>-0.307941</td>\n",
       "      <td>-1.621287</td>\n",
       "      <td>1.776008</td>\n",
       "      <td>-0.510875</td>\n",
       "      <td>-1.110706</td>\n",
       "      <td>-1.463333</td>\n",
       "      <td>...</td>\n",
       "      <td>-0.143756</td>\n",
       "      <td>-0.075207</td>\n",
       "      <td>-0.089087</td>\n",
       "      <td>0.561328</td>\n",
       "      <td>-0.391213</td>\n",
       "      <td>-0.314464</td>\n",
       "      <td>-0.075207</td>\n",
       "      <td>-0.067229</td>\n",
       "      <td>-0.075207</td>\n",
       "      <td>-0.033558</td>\n",
       "    </tr>\n",
       "    <tr>\n",
       "      <th>2</th>\n",
       "      <td>-0.247139</td>\n",
       "      <td>-0.486650</td>\n",
       "      <td>-1.359911</td>\n",
       "      <td>-0.482711</td>\n",
       "      <td>-0.307941</td>\n",
       "      <td>0.616794</td>\n",
       "      <td>-0.563060</td>\n",
       "      <td>-0.510875</td>\n",
       "      <td>0.900328</td>\n",
       "      <td>0.683372</td>\n",
       "      <td>...</td>\n",
       "      <td>-0.143756</td>\n",
       "      <td>-0.075207</td>\n",
       "      <td>-0.089087</td>\n",
       "      <td>0.561328</td>\n",
       "      <td>-0.391213</td>\n",
       "      <td>-0.314464</td>\n",
       "      <td>-0.075207</td>\n",
       "      <td>-0.067229</td>\n",
       "      <td>-0.075207</td>\n",
       "      <td>-0.033558</td>\n",
       "    </tr>\n",
       "    <tr>\n",
       "      <th>3</th>\n",
       "      <td>0.432620</td>\n",
       "      <td>0.422861</td>\n",
       "      <td>-1.359911</td>\n",
       "      <td>-0.482711</td>\n",
       "      <td>-0.307941</td>\n",
       "      <td>0.616794</td>\n",
       "      <td>1.776008</td>\n",
       "      <td>-0.510875</td>\n",
       "      <td>-1.110706</td>\n",
       "      <td>-1.463333</td>\n",
       "      <td>...</td>\n",
       "      <td>-0.143756</td>\n",
       "      <td>-0.075207</td>\n",
       "      <td>-0.089087</td>\n",
       "      <td>0.561328</td>\n",
       "      <td>-0.391213</td>\n",
       "      <td>-0.314464</td>\n",
       "      <td>-0.075207</td>\n",
       "      <td>-0.067229</td>\n",
       "      <td>-0.075207</td>\n",
       "      <td>-0.033558</td>\n",
       "    </tr>\n",
       "    <tr>\n",
       "      <th>4</th>\n",
       "      <td>0.432620</td>\n",
       "      <td>-0.484133</td>\n",
       "      <td>0.735342</td>\n",
       "      <td>-0.482711</td>\n",
       "      <td>-0.307941</td>\n",
       "      <td>0.616794</td>\n",
       "      <td>-0.563060</td>\n",
       "      <td>-0.510875</td>\n",
       "      <td>0.900328</td>\n",
       "      <td>0.683372</td>\n",
       "      <td>...</td>\n",
       "      <td>-0.143756</td>\n",
       "      <td>-0.075207</td>\n",
       "      <td>-0.089087</td>\n",
       "      <td>0.561328</td>\n",
       "      <td>-0.391213</td>\n",
       "      <td>-0.314464</td>\n",
       "      <td>-0.075207</td>\n",
       "      <td>-0.067229</td>\n",
       "      <td>-0.075207</td>\n",
       "      <td>-0.033558</td>\n",
       "    </tr>\n",
       "  </tbody>\n",
       "</table>\n",
       "<p>5 rows × 23 columns</p>\n",
       "</div>"
      ],
      "text/plain": [
       "        Age      Fare  Sex_male  Embarked_C  Embarked_Q  Embarked_S  Pclass_1  \\\n",
       "0 -0.549253 -0.500240  0.735342   -0.482711   -0.307941    0.616794 -0.563060   \n",
       "1  0.659206  0.788947 -1.359911    2.071634   -0.307941   -1.621287  1.776008   \n",
       "2 -0.247139 -0.486650 -1.359911   -0.482711   -0.307941    0.616794 -0.563060   \n",
       "3  0.432620  0.422861 -1.359911   -0.482711   -0.307941    0.616794  1.776008   \n",
       "4  0.432620 -0.484133  0.735342   -0.482711   -0.307941    0.616794 -0.563060   \n",
       "\n",
       "   Pclass_2  Pclass_3   SibSp_0  ...   SibSp_4   SibSp_5   SibSp_8   Parch_0  \\\n",
       "0 -0.510875  0.900328 -1.463333  ... -0.143756 -0.075207 -0.089087  0.561328   \n",
       "1 -0.510875 -1.110706 -1.463333  ... -0.143756 -0.075207 -0.089087  0.561328   \n",
       "2 -0.510875  0.900328  0.683372  ... -0.143756 -0.075207 -0.089087  0.561328   \n",
       "3 -0.510875 -1.110706 -1.463333  ... -0.143756 -0.075207 -0.089087  0.561328   \n",
       "4 -0.510875  0.900328  0.683372  ... -0.143756 -0.075207 -0.089087  0.561328   \n",
       "\n",
       "    Parch_1   Parch_2   Parch_3   Parch_4   Parch_5   Parch_6  \n",
       "0 -0.391213 -0.314464 -0.075207 -0.067229 -0.075207 -0.033558  \n",
       "1 -0.391213 -0.314464 -0.075207 -0.067229 -0.075207 -0.033558  \n",
       "2 -0.391213 -0.314464 -0.075207 -0.067229 -0.075207 -0.033558  \n",
       "3 -0.391213 -0.314464 -0.075207 -0.067229 -0.075207 -0.033558  \n",
       "4 -0.391213 -0.314464 -0.075207 -0.067229 -0.075207 -0.033558  \n",
       "\n",
       "[5 rows x 23 columns]"
      ]
     },
     "execution_count": 150,
     "metadata": {},
     "output_type": "execute_result"
    }
   ],
   "source": [
    "x_sc = pd.DataFrame(StandardScaler().fit_transform(x),columns=x.columns)\n",
    "x_sc.head()"
   ]
  },
  {
   "cell_type": "raw",
   "metadata": {},
   "source": [
    "divide the entire stuff by the standardDeviation\n",
    "and subtract each value by the mean"
   ]
  },
  {
   "cell_type": "code",
   "execution_count": 151,
   "metadata": {},
   "outputs": [
    {
     "data": {
      "text/html": [
       "<div>\n",
       "<style scoped>\n",
       "    .dataframe tbody tr th:only-of-type {\n",
       "        vertical-align: middle;\n",
       "    }\n",
       "\n",
       "    .dataframe tbody tr th {\n",
       "        vertical-align: top;\n",
       "    }\n",
       "\n",
       "    .dataframe thead th {\n",
       "        text-align: right;\n",
       "    }\n",
       "</style>\n",
       "<table border=\"1\" class=\"dataframe\">\n",
       "  <thead>\n",
       "    <tr style=\"text-align: right;\">\n",
       "      <th></th>\n",
       "      <th>Age</th>\n",
       "      <th>Fare</th>\n",
       "      <th>Sex_male</th>\n",
       "      <th>Embarked_C</th>\n",
       "      <th>Embarked_Q</th>\n",
       "      <th>Embarked_S</th>\n",
       "      <th>Pclass_1</th>\n",
       "      <th>Pclass_2</th>\n",
       "      <th>Pclass_3</th>\n",
       "      <th>SibSp_0</th>\n",
       "      <th>...</th>\n",
       "      <th>SibSp_4</th>\n",
       "      <th>SibSp_5</th>\n",
       "      <th>SibSp_8</th>\n",
       "      <th>Parch_0</th>\n",
       "      <th>Parch_1</th>\n",
       "      <th>Parch_2</th>\n",
       "      <th>Parch_3</th>\n",
       "      <th>Parch_4</th>\n",
       "      <th>Parch_5</th>\n",
       "      <th>Parch_6</th>\n",
       "    </tr>\n",
       "  </thead>\n",
       "  <tbody>\n",
       "    <tr>\n",
       "      <th>count</th>\n",
       "      <td>8.890000e+02</td>\n",
       "      <td>8.890000e+02</td>\n",
       "      <td>8.890000e+02</td>\n",
       "      <td>8.890000e+02</td>\n",
       "      <td>8.890000e+02</td>\n",
       "      <td>8.890000e+02</td>\n",
       "      <td>8.890000e+02</td>\n",
       "      <td>8.890000e+02</td>\n",
       "      <td>8.890000e+02</td>\n",
       "      <td>8.890000e+02</td>\n",
       "      <td>...</td>\n",
       "      <td>8.890000e+02</td>\n",
       "      <td>8.890000e+02</td>\n",
       "      <td>8.890000e+02</td>\n",
       "      <td>8.890000e+02</td>\n",
       "      <td>8.890000e+02</td>\n",
       "      <td>8.890000e+02</td>\n",
       "      <td>8.890000e+02</td>\n",
       "      <td>8.890000e+02</td>\n",
       "      <td>8.890000e+02</td>\n",
       "      <td>8.890000e+02</td>\n",
       "    </tr>\n",
       "    <tr>\n",
       "      <th>mean</th>\n",
       "      <td>-1.520781e-16</td>\n",
       "      <td>1.092115e-16</td>\n",
       "      <td>-3.601668e-16</td>\n",
       "      <td>4.402178e-17</td>\n",
       "      <td>-7.193346e-17</td>\n",
       "      <td>1.064016e-16</td>\n",
       "      <td>2.816145e-16</td>\n",
       "      <td>6.993531e-18</td>\n",
       "      <td>3.157080e-16</td>\n",
       "      <td>2.964758e-16</td>\n",
       "      <td>...</td>\n",
       "      <td>-2.653795e-17</td>\n",
       "      <td>3.090266e-16</td>\n",
       "      <td>-1.152996e-16</td>\n",
       "      <td>2.018133e-16</td>\n",
       "      <td>2.381547e-16</td>\n",
       "      <td>-8.392237e-17</td>\n",
       "      <td>3.579814e-16</td>\n",
       "      <td>1.219185e-16</td>\n",
       "      <td>3.096511e-16</td>\n",
       "      <td>2.134900e-16</td>\n",
       "    </tr>\n",
       "    <tr>\n",
       "      <th>std</th>\n",
       "      <td>1.000563e+00</td>\n",
       "      <td>1.000563e+00</td>\n",
       "      <td>1.000563e+00</td>\n",
       "      <td>1.000563e+00</td>\n",
       "      <td>1.000563e+00</td>\n",
       "      <td>1.000563e+00</td>\n",
       "      <td>1.000563e+00</td>\n",
       "      <td>1.000563e+00</td>\n",
       "      <td>1.000563e+00</td>\n",
       "      <td>1.000563e+00</td>\n",
       "      <td>...</td>\n",
       "      <td>1.000563e+00</td>\n",
       "      <td>1.000563e+00</td>\n",
       "      <td>1.000563e+00</td>\n",
       "      <td>1.000563e+00</td>\n",
       "      <td>1.000563e+00</td>\n",
       "      <td>1.000563e+00</td>\n",
       "      <td>1.000563e+00</td>\n",
       "      <td>1.000563e+00</td>\n",
       "      <td>1.000563e+00</td>\n",
       "      <td>1.000563e+00</td>\n",
       "    </tr>\n",
       "    <tr>\n",
       "      <th>min</th>\n",
       "      <td>-2.179162e+00</td>\n",
       "      <td>-6.462044e-01</td>\n",
       "      <td>-1.359911e+00</td>\n",
       "      <td>-4.827108e-01</td>\n",
       "      <td>-3.079409e-01</td>\n",
       "      <td>-1.621287e+00</td>\n",
       "      <td>-5.630604e-01</td>\n",
       "      <td>-5.108746e-01</td>\n",
       "      <td>-1.110706e+00</td>\n",
       "      <td>-1.463333e+00</td>\n",
       "      <td>...</td>\n",
       "      <td>-1.437564e-01</td>\n",
       "      <td>-7.520710e-02</td>\n",
       "      <td>-8.908708e-02</td>\n",
       "      <td>-1.781491e+00</td>\n",
       "      <td>-3.912135e-01</td>\n",
       "      <td>-3.144639e-01</td>\n",
       "      <td>-7.520710e-02</td>\n",
       "      <td>-6.722926e-02</td>\n",
       "      <td>-7.520710e-02</td>\n",
       "      <td>-3.355780e-02</td>\n",
       "    </tr>\n",
       "    <tr>\n",
       "      <th>25%</th>\n",
       "      <td>-5.681354e-01</td>\n",
       "      <td>-4.872378e-01</td>\n",
       "      <td>-1.359911e+00</td>\n",
       "      <td>-4.827108e-01</td>\n",
       "      <td>-3.079409e-01</td>\n",
       "      <td>-1.621287e+00</td>\n",
       "      <td>-5.630604e-01</td>\n",
       "      <td>-5.108746e-01</td>\n",
       "      <td>-1.110706e+00</td>\n",
       "      <td>-1.463333e+00</td>\n",
       "      <td>...</td>\n",
       "      <td>-1.437564e-01</td>\n",
       "      <td>-7.520710e-02</td>\n",
       "      <td>-8.908708e-02</td>\n",
       "      <td>5.613277e-01</td>\n",
       "      <td>-3.912135e-01</td>\n",
       "      <td>-3.144639e-01</td>\n",
       "      <td>-7.520710e-02</td>\n",
       "      <td>-6.722926e-02</td>\n",
       "      <td>-7.520710e-02</td>\n",
       "      <td>-3.355780e-02</td>\n",
       "    </tr>\n",
       "    <tr>\n",
       "      <th>50%</th>\n",
       "      <td>-2.088010e-01</td>\n",
       "      <td>-3.551972e-01</td>\n",
       "      <td>7.353420e-01</td>\n",
       "      <td>-4.827108e-01</td>\n",
       "      <td>-3.079409e-01</td>\n",
       "      <td>6.167940e-01</td>\n",
       "      <td>-5.630604e-01</td>\n",
       "      <td>-5.108746e-01</td>\n",
       "      <td>9.003281e-01</td>\n",
       "      <td>6.833716e-01</td>\n",
       "      <td>...</td>\n",
       "      <td>-1.437564e-01</td>\n",
       "      <td>-7.520710e-02</td>\n",
       "      <td>-8.908708e-02</td>\n",
       "      <td>5.613277e-01</td>\n",
       "      <td>-3.912135e-01</td>\n",
       "      <td>-3.144639e-01</td>\n",
       "      <td>-7.520710e-02</td>\n",
       "      <td>-6.722926e-02</td>\n",
       "      <td>-7.520710e-02</td>\n",
       "      <td>-3.355780e-02</td>\n",
       "    </tr>\n",
       "    <tr>\n",
       "      <th>75%</th>\n",
       "      <td>5.081482e-01</td>\n",
       "      <td>-2.207954e-02</td>\n",
       "      <td>7.353420e-01</td>\n",
       "      <td>-4.827108e-01</td>\n",
       "      <td>-3.079409e-01</td>\n",
       "      <td>6.167940e-01</td>\n",
       "      <td>-5.630604e-01</td>\n",
       "      <td>-5.108746e-01</td>\n",
       "      <td>9.003281e-01</td>\n",
       "      <td>6.833716e-01</td>\n",
       "      <td>...</td>\n",
       "      <td>-1.437564e-01</td>\n",
       "      <td>-7.520710e-02</td>\n",
       "      <td>-8.908708e-02</td>\n",
       "      <td>5.613277e-01</td>\n",
       "      <td>-3.912135e-01</td>\n",
       "      <td>-3.144639e-01</td>\n",
       "      <td>-7.520710e-02</td>\n",
       "      <td>-6.722926e-02</td>\n",
       "      <td>-7.520710e-02</td>\n",
       "      <td>-3.355780e-02</td>\n",
       "    </tr>\n",
       "    <tr>\n",
       "      <th>max</th>\n",
       "      <td>3.831410e+00</td>\n",
       "      <td>9.668551e+00</td>\n",
       "      <td>7.353420e-01</td>\n",
       "      <td>2.071634e+00</td>\n",
       "      <td>3.247377e+00</td>\n",
       "      <td>6.167940e-01</td>\n",
       "      <td>1.776008e+00</td>\n",
       "      <td>1.957427e+00</td>\n",
       "      <td>9.003281e-01</td>\n",
       "      <td>6.833716e-01</td>\n",
       "      <td>...</td>\n",
       "      <td>6.956212e+00</td>\n",
       "      <td>1.329662e+01</td>\n",
       "      <td>1.122497e+01</td>\n",
       "      <td>5.613277e-01</td>\n",
       "      <td>2.556149e+00</td>\n",
       "      <td>3.180016e+00</td>\n",
       "      <td>1.329662e+01</td>\n",
       "      <td>1.487447e+01</td>\n",
       "      <td>1.329662e+01</td>\n",
       "      <td>2.979933e+01</td>\n",
       "    </tr>\n",
       "  </tbody>\n",
       "</table>\n",
       "<p>8 rows × 23 columns</p>\n",
       "</div>"
      ],
      "text/plain": [
       "                Age          Fare      Sex_male    Embarked_C    Embarked_Q  \\\n",
       "count  8.890000e+02  8.890000e+02  8.890000e+02  8.890000e+02  8.890000e+02   \n",
       "mean  -1.520781e-16  1.092115e-16 -3.601668e-16  4.402178e-17 -7.193346e-17   \n",
       "std    1.000563e+00  1.000563e+00  1.000563e+00  1.000563e+00  1.000563e+00   \n",
       "min   -2.179162e+00 -6.462044e-01 -1.359911e+00 -4.827108e-01 -3.079409e-01   \n",
       "25%   -5.681354e-01 -4.872378e-01 -1.359911e+00 -4.827108e-01 -3.079409e-01   \n",
       "50%   -2.088010e-01 -3.551972e-01  7.353420e-01 -4.827108e-01 -3.079409e-01   \n",
       "75%    5.081482e-01 -2.207954e-02  7.353420e-01 -4.827108e-01 -3.079409e-01   \n",
       "max    3.831410e+00  9.668551e+00  7.353420e-01  2.071634e+00  3.247377e+00   \n",
       "\n",
       "         Embarked_S      Pclass_1      Pclass_2      Pclass_3       SibSp_0  \\\n",
       "count  8.890000e+02  8.890000e+02  8.890000e+02  8.890000e+02  8.890000e+02   \n",
       "mean   1.064016e-16  2.816145e-16  6.993531e-18  3.157080e-16  2.964758e-16   \n",
       "std    1.000563e+00  1.000563e+00  1.000563e+00  1.000563e+00  1.000563e+00   \n",
       "min   -1.621287e+00 -5.630604e-01 -5.108746e-01 -1.110706e+00 -1.463333e+00   \n",
       "25%   -1.621287e+00 -5.630604e-01 -5.108746e-01 -1.110706e+00 -1.463333e+00   \n",
       "50%    6.167940e-01 -5.630604e-01 -5.108746e-01  9.003281e-01  6.833716e-01   \n",
       "75%    6.167940e-01 -5.630604e-01 -5.108746e-01  9.003281e-01  6.833716e-01   \n",
       "max    6.167940e-01  1.776008e+00  1.957427e+00  9.003281e-01  6.833716e-01   \n",
       "\n",
       "       ...       SibSp_4       SibSp_5       SibSp_8       Parch_0  \\\n",
       "count  ...  8.890000e+02  8.890000e+02  8.890000e+02  8.890000e+02   \n",
       "mean   ... -2.653795e-17  3.090266e-16 -1.152996e-16  2.018133e-16   \n",
       "std    ...  1.000563e+00  1.000563e+00  1.000563e+00  1.000563e+00   \n",
       "min    ... -1.437564e-01 -7.520710e-02 -8.908708e-02 -1.781491e+00   \n",
       "25%    ... -1.437564e-01 -7.520710e-02 -8.908708e-02  5.613277e-01   \n",
       "50%    ... -1.437564e-01 -7.520710e-02 -8.908708e-02  5.613277e-01   \n",
       "75%    ... -1.437564e-01 -7.520710e-02 -8.908708e-02  5.613277e-01   \n",
       "max    ...  6.956212e+00  1.329662e+01  1.122497e+01  5.613277e-01   \n",
       "\n",
       "            Parch_1       Parch_2       Parch_3       Parch_4       Parch_5  \\\n",
       "count  8.890000e+02  8.890000e+02  8.890000e+02  8.890000e+02  8.890000e+02   \n",
       "mean   2.381547e-16 -8.392237e-17  3.579814e-16  1.219185e-16  3.096511e-16   \n",
       "std    1.000563e+00  1.000563e+00  1.000563e+00  1.000563e+00  1.000563e+00   \n",
       "min   -3.912135e-01 -3.144639e-01 -7.520710e-02 -6.722926e-02 -7.520710e-02   \n",
       "25%   -3.912135e-01 -3.144639e-01 -7.520710e-02 -6.722926e-02 -7.520710e-02   \n",
       "50%   -3.912135e-01 -3.144639e-01 -7.520710e-02 -6.722926e-02 -7.520710e-02   \n",
       "75%   -3.912135e-01 -3.144639e-01 -7.520710e-02 -6.722926e-02 -7.520710e-02   \n",
       "max    2.556149e+00  3.180016e+00  1.329662e+01  1.487447e+01  1.329662e+01   \n",
       "\n",
       "            Parch_6  \n",
       "count  8.890000e+02  \n",
       "mean   2.134900e-16  \n",
       "std    1.000563e+00  \n",
       "min   -3.355780e-02  \n",
       "25%   -3.355780e-02  \n",
       "50%   -3.355780e-02  \n",
       "75%   -3.355780e-02  \n",
       "max    2.979933e+01  \n",
       "\n",
       "[8 rows x 23 columns]"
      ]
     },
     "execution_count": 151,
     "metadata": {},
     "output_type": "execute_result"
    }
   ],
   "source": [
    "x_sc.describe()"
   ]
  },
  {
   "cell_type": "code",
   "execution_count": 152,
   "metadata": {},
   "outputs": [
    {
     "name": "stdout",
     "output_type": "stream",
     "text": [
      "<class 'pandas.core.frame.DataFrame'>\n",
      "RangeIndex: 889 entries, 0 to 888\n",
      "Data columns (total 23 columns):\n",
      " #   Column      Non-Null Count  Dtype  \n",
      "---  ------      --------------  -----  \n",
      " 0   Age         889 non-null    float64\n",
      " 1   Fare        889 non-null    float64\n",
      " 2   Sex_male    889 non-null    float64\n",
      " 3   Embarked_C  889 non-null    float64\n",
      " 4   Embarked_Q  889 non-null    float64\n",
      " 5   Embarked_S  889 non-null    float64\n",
      " 6   Pclass_1    889 non-null    float64\n",
      " 7   Pclass_2    889 non-null    float64\n",
      " 8   Pclass_3    889 non-null    float64\n",
      " 9   SibSp_0     889 non-null    float64\n",
      " 10  SibSp_1     889 non-null    float64\n",
      " 11  SibSp_2     889 non-null    float64\n",
      " 12  SibSp_3     889 non-null    float64\n",
      " 13  SibSp_4     889 non-null    float64\n",
      " 14  SibSp_5     889 non-null    float64\n",
      " 15  SibSp_8     889 non-null    float64\n",
      " 16  Parch_0     889 non-null    float64\n",
      " 17  Parch_1     889 non-null    float64\n",
      " 18  Parch_2     889 non-null    float64\n",
      " 19  Parch_3     889 non-null    float64\n",
      " 20  Parch_4     889 non-null    float64\n",
      " 21  Parch_5     889 non-null    float64\n",
      " 22  Parch_6     889 non-null    float64\n",
      "dtypes: float64(23)\n",
      "memory usage: 159.9 KB\n"
     ]
    }
   ],
   "source": [
    "x_sc.info()"
   ]
  },
  {
   "cell_type": "code",
   "execution_count": 153,
   "metadata": {},
   "outputs": [
    {
     "data": {
      "text/html": [
       "<div>\n",
       "<style scoped>\n",
       "    .dataframe tbody tr th:only-of-type {\n",
       "        vertical-align: middle;\n",
       "    }\n",
       "\n",
       "    .dataframe tbody tr th {\n",
       "        vertical-align: top;\n",
       "    }\n",
       "\n",
       "    .dataframe thead th {\n",
       "        text-align: right;\n",
       "    }\n",
       "</style>\n",
       "<table border=\"1\" class=\"dataframe\">\n",
       "  <thead>\n",
       "    <tr style=\"text-align: right;\">\n",
       "      <th></th>\n",
       "      <th>Age</th>\n",
       "      <th>Fare</th>\n",
       "      <th>Sex_male</th>\n",
       "      <th>Embarked_C</th>\n",
       "      <th>Embarked_Q</th>\n",
       "      <th>Embarked_S</th>\n",
       "      <th>Pclass_1</th>\n",
       "      <th>Pclass_2</th>\n",
       "      <th>Pclass_3</th>\n",
       "      <th>SibSp_0</th>\n",
       "      <th>...</th>\n",
       "      <th>SibSp_4</th>\n",
       "      <th>SibSp_5</th>\n",
       "      <th>SibSp_8</th>\n",
       "      <th>Parch_0</th>\n",
       "      <th>Parch_1</th>\n",
       "      <th>Parch_2</th>\n",
       "      <th>Parch_3</th>\n",
       "      <th>Parch_4</th>\n",
       "      <th>Parch_5</th>\n",
       "      <th>Parch_6</th>\n",
       "    </tr>\n",
       "  </thead>\n",
       "  <tbody>\n",
       "    <tr>\n",
       "      <th>0</th>\n",
       "      <td>-0.549316</td>\n",
       "      <td>-0.500000</td>\n",
       "      <td>0.735352</td>\n",
       "      <td>-0.482666</td>\n",
       "      <td>-0.307861</td>\n",
       "      <td>0.616699</td>\n",
       "      <td>-0.562988</td>\n",
       "      <td>-0.510742</td>\n",
       "      <td>0.900391</td>\n",
       "      <td>-1.462891</td>\n",
       "      <td>...</td>\n",
       "      <td>-0.143799</td>\n",
       "      <td>-0.075195</td>\n",
       "      <td>-0.089111</td>\n",
       "      <td>0.561523</td>\n",
       "      <td>-0.391113</td>\n",
       "      <td>-0.314453</td>\n",
       "      <td>-0.075195</td>\n",
       "      <td>-0.0672</td>\n",
       "      <td>-0.075195</td>\n",
       "      <td>-0.033569</td>\n",
       "    </tr>\n",
       "    <tr>\n",
       "      <th>1</th>\n",
       "      <td>0.659180</td>\n",
       "      <td>0.789062</td>\n",
       "      <td>-1.360352</td>\n",
       "      <td>2.072266</td>\n",
       "      <td>-0.307861</td>\n",
       "      <td>-1.621094</td>\n",
       "      <td>1.776367</td>\n",
       "      <td>-0.510742</td>\n",
       "      <td>-1.110352</td>\n",
       "      <td>-1.462891</td>\n",
       "      <td>...</td>\n",
       "      <td>-0.143799</td>\n",
       "      <td>-0.075195</td>\n",
       "      <td>-0.089111</td>\n",
       "      <td>0.561523</td>\n",
       "      <td>-0.391113</td>\n",
       "      <td>-0.314453</td>\n",
       "      <td>-0.075195</td>\n",
       "      <td>-0.0672</td>\n",
       "      <td>-0.075195</td>\n",
       "      <td>-0.033569</td>\n",
       "    </tr>\n",
       "    <tr>\n",
       "      <th>2</th>\n",
       "      <td>-0.247192</td>\n",
       "      <td>-0.486572</td>\n",
       "      <td>-1.360352</td>\n",
       "      <td>-0.482666</td>\n",
       "      <td>-0.307861</td>\n",
       "      <td>0.616699</td>\n",
       "      <td>-0.562988</td>\n",
       "      <td>-0.510742</td>\n",
       "      <td>0.900391</td>\n",
       "      <td>0.683594</td>\n",
       "      <td>...</td>\n",
       "      <td>-0.143799</td>\n",
       "      <td>-0.075195</td>\n",
       "      <td>-0.089111</td>\n",
       "      <td>0.561523</td>\n",
       "      <td>-0.391113</td>\n",
       "      <td>-0.314453</td>\n",
       "      <td>-0.075195</td>\n",
       "      <td>-0.0672</td>\n",
       "      <td>-0.075195</td>\n",
       "      <td>-0.033569</td>\n",
       "    </tr>\n",
       "    <tr>\n",
       "      <th>3</th>\n",
       "      <td>0.432617</td>\n",
       "      <td>0.422852</td>\n",
       "      <td>-1.360352</td>\n",
       "      <td>-0.482666</td>\n",
       "      <td>-0.307861</td>\n",
       "      <td>0.616699</td>\n",
       "      <td>1.776367</td>\n",
       "      <td>-0.510742</td>\n",
       "      <td>-1.110352</td>\n",
       "      <td>-1.462891</td>\n",
       "      <td>...</td>\n",
       "      <td>-0.143799</td>\n",
       "      <td>-0.075195</td>\n",
       "      <td>-0.089111</td>\n",
       "      <td>0.561523</td>\n",
       "      <td>-0.391113</td>\n",
       "      <td>-0.314453</td>\n",
       "      <td>-0.075195</td>\n",
       "      <td>-0.0672</td>\n",
       "      <td>-0.075195</td>\n",
       "      <td>-0.033569</td>\n",
       "    </tr>\n",
       "    <tr>\n",
       "      <th>4</th>\n",
       "      <td>0.432617</td>\n",
       "      <td>-0.484131</td>\n",
       "      <td>0.735352</td>\n",
       "      <td>-0.482666</td>\n",
       "      <td>-0.307861</td>\n",
       "      <td>0.616699</td>\n",
       "      <td>-0.562988</td>\n",
       "      <td>-0.510742</td>\n",
       "      <td>0.900391</td>\n",
       "      <td>0.683594</td>\n",
       "      <td>...</td>\n",
       "      <td>-0.143799</td>\n",
       "      <td>-0.075195</td>\n",
       "      <td>-0.089111</td>\n",
       "      <td>0.561523</td>\n",
       "      <td>-0.391113</td>\n",
       "      <td>-0.314453</td>\n",
       "      <td>-0.075195</td>\n",
       "      <td>-0.0672</td>\n",
       "      <td>-0.075195</td>\n",
       "      <td>-0.033569</td>\n",
       "    </tr>\n",
       "    <tr>\n",
       "      <th>...</th>\n",
       "      <td>...</td>\n",
       "      <td>...</td>\n",
       "      <td>...</td>\n",
       "      <td>...</td>\n",
       "      <td>...</td>\n",
       "      <td>...</td>\n",
       "      <td>...</td>\n",
       "      <td>...</td>\n",
       "      <td>...</td>\n",
       "      <td>...</td>\n",
       "      <td>...</td>\n",
       "      <td>...</td>\n",
       "      <td>...</td>\n",
       "      <td>...</td>\n",
       "      <td>...</td>\n",
       "      <td>...</td>\n",
       "      <td>...</td>\n",
       "      <td>...</td>\n",
       "      <td>...</td>\n",
       "      <td>...</td>\n",
       "      <td>...</td>\n",
       "    </tr>\n",
       "    <tr>\n",
       "      <th>884</th>\n",
       "      <td>-0.171631</td>\n",
       "      <td>-0.384521</td>\n",
       "      <td>0.735352</td>\n",
       "      <td>-0.482666</td>\n",
       "      <td>-0.307861</td>\n",
       "      <td>0.616699</td>\n",
       "      <td>-0.562988</td>\n",
       "      <td>1.957031</td>\n",
       "      <td>-1.110352</td>\n",
       "      <td>0.683594</td>\n",
       "      <td>...</td>\n",
       "      <td>-0.143799</td>\n",
       "      <td>-0.075195</td>\n",
       "      <td>-0.089111</td>\n",
       "      <td>0.561523</td>\n",
       "      <td>-0.391113</td>\n",
       "      <td>-0.314453</td>\n",
       "      <td>-0.075195</td>\n",
       "      <td>-0.0672</td>\n",
       "      <td>-0.075195</td>\n",
       "      <td>-0.033569</td>\n",
       "    </tr>\n",
       "    <tr>\n",
       "      <th>885</th>\n",
       "      <td>-0.775879</td>\n",
       "      <td>-0.042206</td>\n",
       "      <td>-1.360352</td>\n",
       "      <td>-0.482666</td>\n",
       "      <td>-0.307861</td>\n",
       "      <td>0.616699</td>\n",
       "      <td>1.776367</td>\n",
       "      <td>-0.510742</td>\n",
       "      <td>-1.110352</td>\n",
       "      <td>0.683594</td>\n",
       "      <td>...</td>\n",
       "      <td>-0.143799</td>\n",
       "      <td>-0.075195</td>\n",
       "      <td>-0.089111</td>\n",
       "      <td>0.561523</td>\n",
       "      <td>-0.391113</td>\n",
       "      <td>-0.314453</td>\n",
       "      <td>-0.075195</td>\n",
       "      <td>-0.0672</td>\n",
       "      <td>-0.075195</td>\n",
       "      <td>-0.033569</td>\n",
       "    </tr>\n",
       "    <tr>\n",
       "      <th>886</th>\n",
       "      <td>-0.568359</td>\n",
       "      <td>-0.174072</td>\n",
       "      <td>-1.360352</td>\n",
       "      <td>-0.482666</td>\n",
       "      <td>-0.307861</td>\n",
       "      <td>0.616699</td>\n",
       "      <td>-0.562988</td>\n",
       "      <td>-0.510742</td>\n",
       "      <td>0.900391</td>\n",
       "      <td>-1.462891</td>\n",
       "      <td>...</td>\n",
       "      <td>-0.143799</td>\n",
       "      <td>-0.075195</td>\n",
       "      <td>-0.089111</td>\n",
       "      <td>-1.781250</td>\n",
       "      <td>-0.391113</td>\n",
       "      <td>3.179688</td>\n",
       "      <td>-0.075195</td>\n",
       "      <td>-0.0672</td>\n",
       "      <td>-0.075195</td>\n",
       "      <td>-0.033569</td>\n",
       "    </tr>\n",
       "    <tr>\n",
       "      <th>887</th>\n",
       "      <td>-0.247192</td>\n",
       "      <td>-0.042206</td>\n",
       "      <td>0.735352</td>\n",
       "      <td>2.072266</td>\n",
       "      <td>-0.307861</td>\n",
       "      <td>-1.621094</td>\n",
       "      <td>1.776367</td>\n",
       "      <td>-0.510742</td>\n",
       "      <td>-1.110352</td>\n",
       "      <td>0.683594</td>\n",
       "      <td>...</td>\n",
       "      <td>-0.143799</td>\n",
       "      <td>-0.075195</td>\n",
       "      <td>-0.089111</td>\n",
       "      <td>0.561523</td>\n",
       "      <td>-0.391113</td>\n",
       "      <td>-0.314453</td>\n",
       "      <td>-0.075195</td>\n",
       "      <td>-0.0672</td>\n",
       "      <td>-0.075195</td>\n",
       "      <td>-0.033569</td>\n",
       "    </tr>\n",
       "    <tr>\n",
       "      <th>888</th>\n",
       "      <td>0.206055</td>\n",
       "      <td>-0.490234</td>\n",
       "      <td>0.735352</td>\n",
       "      <td>-0.482666</td>\n",
       "      <td>3.248047</td>\n",
       "      <td>-1.621094</td>\n",
       "      <td>-0.562988</td>\n",
       "      <td>-0.510742</td>\n",
       "      <td>0.900391</td>\n",
       "      <td>0.683594</td>\n",
       "      <td>...</td>\n",
       "      <td>-0.143799</td>\n",
       "      <td>-0.075195</td>\n",
       "      <td>-0.089111</td>\n",
       "      <td>0.561523</td>\n",
       "      <td>-0.391113</td>\n",
       "      <td>-0.314453</td>\n",
       "      <td>-0.075195</td>\n",
       "      <td>-0.0672</td>\n",
       "      <td>-0.075195</td>\n",
       "      <td>-0.033569</td>\n",
       "    </tr>\n",
       "  </tbody>\n",
       "</table>\n",
       "<p>889 rows × 23 columns</p>\n",
       "</div>"
      ],
      "text/plain": [
       "          Age      Fare  Sex_male  Embarked_C  Embarked_Q  Embarked_S  \\\n",
       "0   -0.549316 -0.500000  0.735352   -0.482666   -0.307861    0.616699   \n",
       "1    0.659180  0.789062 -1.360352    2.072266   -0.307861   -1.621094   \n",
       "2   -0.247192 -0.486572 -1.360352   -0.482666   -0.307861    0.616699   \n",
       "3    0.432617  0.422852 -1.360352   -0.482666   -0.307861    0.616699   \n",
       "4    0.432617 -0.484131  0.735352   -0.482666   -0.307861    0.616699   \n",
       "..        ...       ...       ...         ...         ...         ...   \n",
       "884 -0.171631 -0.384521  0.735352   -0.482666   -0.307861    0.616699   \n",
       "885 -0.775879 -0.042206 -1.360352   -0.482666   -0.307861    0.616699   \n",
       "886 -0.568359 -0.174072 -1.360352   -0.482666   -0.307861    0.616699   \n",
       "887 -0.247192 -0.042206  0.735352    2.072266   -0.307861   -1.621094   \n",
       "888  0.206055 -0.490234  0.735352   -0.482666    3.248047   -1.621094   \n",
       "\n",
       "     Pclass_1  Pclass_2  Pclass_3   SibSp_0  ...   SibSp_4   SibSp_5  \\\n",
       "0   -0.562988 -0.510742  0.900391 -1.462891  ... -0.143799 -0.075195   \n",
       "1    1.776367 -0.510742 -1.110352 -1.462891  ... -0.143799 -0.075195   \n",
       "2   -0.562988 -0.510742  0.900391  0.683594  ... -0.143799 -0.075195   \n",
       "3    1.776367 -0.510742 -1.110352 -1.462891  ... -0.143799 -0.075195   \n",
       "4   -0.562988 -0.510742  0.900391  0.683594  ... -0.143799 -0.075195   \n",
       "..        ...       ...       ...       ...  ...       ...       ...   \n",
       "884 -0.562988  1.957031 -1.110352  0.683594  ... -0.143799 -0.075195   \n",
       "885  1.776367 -0.510742 -1.110352  0.683594  ... -0.143799 -0.075195   \n",
       "886 -0.562988 -0.510742  0.900391 -1.462891  ... -0.143799 -0.075195   \n",
       "887  1.776367 -0.510742 -1.110352  0.683594  ... -0.143799 -0.075195   \n",
       "888 -0.562988 -0.510742  0.900391  0.683594  ... -0.143799 -0.075195   \n",
       "\n",
       "      SibSp_8   Parch_0   Parch_1   Parch_2   Parch_3  Parch_4   Parch_5  \\\n",
       "0   -0.089111  0.561523 -0.391113 -0.314453 -0.075195  -0.0672 -0.075195   \n",
       "1   -0.089111  0.561523 -0.391113 -0.314453 -0.075195  -0.0672 -0.075195   \n",
       "2   -0.089111  0.561523 -0.391113 -0.314453 -0.075195  -0.0672 -0.075195   \n",
       "3   -0.089111  0.561523 -0.391113 -0.314453 -0.075195  -0.0672 -0.075195   \n",
       "4   -0.089111  0.561523 -0.391113 -0.314453 -0.075195  -0.0672 -0.075195   \n",
       "..        ...       ...       ...       ...       ...      ...       ...   \n",
       "884 -0.089111  0.561523 -0.391113 -0.314453 -0.075195  -0.0672 -0.075195   \n",
       "885 -0.089111  0.561523 -0.391113 -0.314453 -0.075195  -0.0672 -0.075195   \n",
       "886 -0.089111 -1.781250 -0.391113  3.179688 -0.075195  -0.0672 -0.075195   \n",
       "887 -0.089111  0.561523 -0.391113 -0.314453 -0.075195  -0.0672 -0.075195   \n",
       "888 -0.089111  0.561523 -0.391113 -0.314453 -0.075195  -0.0672 -0.075195   \n",
       "\n",
       "      Parch_6  \n",
       "0   -0.033569  \n",
       "1   -0.033569  \n",
       "2   -0.033569  \n",
       "3   -0.033569  \n",
       "4   -0.033569  \n",
       "..        ...  \n",
       "884 -0.033569  \n",
       "885 -0.033569  \n",
       "886 -0.033569  \n",
       "887 -0.033569  \n",
       "888 -0.033569  \n",
       "\n",
       "[889 rows x 23 columns]"
      ]
     },
     "execution_count": 153,
     "metadata": {},
     "output_type": "execute_result"
    }
   ],
   "source": [
    "x_sc.astype('float16')"
   ]
  },
  {
   "cell_type": "code",
   "execution_count": 154,
   "metadata": {},
   "outputs": [],
   "source": [
    "xtrain,xtest,ytrain,ytest = train_test_split(x_sc.values, y.values, test_size=0.3, random_state=100)"
   ]
  },
  {
   "cell_type": "code",
   "execution_count": 155,
   "metadata": {},
   "outputs": [],
   "source": [
    "model_logi_sc = LogisticRegression().fit(xtrain,ytrain)"
   ]
  },
  {
   "cell_type": "code",
   "execution_count": 156,
   "metadata": {},
   "outputs": [
    {
     "data": {
      "text/plain": [
       "0.8089887640449438"
      ]
     },
     "execution_count": 156,
     "metadata": {},
     "output_type": "execute_result"
    }
   ],
   "source": [
    "model_logi_sc.score(xtest,ytest)"
   ]
  },
  {
   "cell_type": "code",
   "execution_count": null,
   "metadata": {},
   "outputs": [],
   "source": []
  }
 ],
 "metadata": {
  "kernelspec": {
   "display_name": "Python 3",
   "language": "python",
   "name": "python3"
  },
  "language_info": {
   "codemirror_mode": {
    "name": "ipython",
    "version": 3
   },
   "file_extension": ".py",
   "mimetype": "text/x-python",
   "name": "python",
   "nbconvert_exporter": "python",
   "pygments_lexer": "ipython3",
   "version": "3.8.3"
  }
 },
 "nbformat": 4,
 "nbformat_minor": 4
}
